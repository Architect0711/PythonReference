{
 "cells": [
  {
   "cell_type": "markdown",
   "metadata": {},
   "source": [
    "# Python Reference - Reference / Value\n",
    "**Author:** Robert Bantele\n",
    "\n",
    "#### Definition\n",
    "is an object called by reference or by value\n",
    "\n",
    "##### Links  \n",
    "-"
   ]
  },
  {
   "cell_type": "markdown",
   "metadata": {},
   "source": [
    "### pass by value\n",
    "all primitive datatypes are passed by value:\n",
    "- bool\n",
    "- int\n",
    "- float\n",
    "- long"
   ]
  },
  {
   "cell_type": "code",
   "execution_count": 24,
   "metadata": {},
   "outputs": [
    {
     "name": "stdout",
     "output_type": "stream",
     "text": [
      "140733214532240 -> function value is 9\n",
      "140733214532048 -> actual value is 3\n"
     ]
    }
   ],
   "source": [
    "test: int = 3\n",
    "\n",
    "def square(x):\n",
    "    x = x ** 2\n",
    "    print(f\"{id(x)} -> function value is {x}\")\n",
    "\n",
    "square(test)\n",
    "print(f\"{id(test)} -> actual value is {test}\")"
   ]
  },
  {
   "cell_type": "code",
   "execution_count": 25,
   "metadata": {},
   "outputs": [
    {
     "name": "stdout",
     "output_type": "stream",
     "text": [
      "140733214009712 -> function value is False\n",
      "140733214009680 -> actual value is True\n"
     ]
    }
   ],
   "source": [
    "true: bool = True\n",
    "    \n",
    "def negate(boolean):\n",
    "    boolean = not boolean\n",
    "    print(f\"{id(boolean)} -> function value is {boolean}\")\n",
    "\n",
    "negate(true)\n",
    "print(f\"{id(true)} -> actual value is {true}\")"
   ]
  },
  {
   "cell_type": "markdown",
   "metadata": {},
   "source": [
    "### pass by reference\n",
    "classes and datastructures are passed by reference"
   ]
  },
  {
   "cell_type": "code",
   "execution_count": 26,
   "metadata": {},
   "outputs": [
    {
     "name": "stdout",
     "output_type": "stream",
     "text": [
      "2453920090376 -> function value is ['Lists', 'Are', 'Passed', 'By', 'Value']\n",
      "2453920090376 -> actual value is ['Lists', 'Are', 'Passed', 'By', 'Value']\n"
     ]
    }
   ],
   "source": [
    "li = [\"Lists\", \"Are\", \"Passed\", \"By\"]\n",
    "\n",
    "def some_function(some_list):\n",
    "    some_list.append(\"Value\")\n",
    "    print(f\"{id(some_list)} -> function value is {some_list}\")\n",
    "    \n",
    "some_function(li)\n",
    "print(f\"{id(li)} -> actual value is {li}\")"
   ]
  },
  {
   "cell_type": "code",
   "execution_count": 27,
   "metadata": {},
   "outputs": [
    {
     "name": "stdout",
     "output_type": "stream",
     "text": [
      "2453920570504 -> function value is {'Are', 'Sets', 'By', 'Value', 'Passed'}\n",
      "2453920570504 -> actual value is {'Are', 'Sets', 'By', 'Value', 'Passed'}\n"
     ]
    }
   ],
   "source": [
    "se = {\"Sets\", \"Are\", \"Passed\", \"By\"}\n",
    "\n",
    "def some_function(some_set):\n",
    "    some_set.add(\"Value\")\n",
    "    print(f\"{id(some_set)} -> function value is {some_set}\")\n",
    "    \n",
    "some_function(se)\n",
    "print(f\"{id(se)} -> actual value is {se}\")"
   ]
  },
  {
   "cell_type": "code",
   "execution_count": 23,
   "metadata": {},
   "outputs": [
    {
     "name": "stdout",
     "output_type": "stream",
     "text": [
      "2453921486792 -> function value is {'Dicts': 'Are', 'Passed': 'By', 'Value': '!'}\n",
      "2453921486792 -> actual value is {'Dicts': 'Are', 'Passed': 'By', 'Value': '!'}\n"
     ]
    }
   ],
   "source": [
    "di = {\"Dicts\": \"Are\", \"Passed\": \"By\"}\n",
    "\n",
    "def some_function(some_dict):\n",
    "    some_dict[\"Value\"] = \"!\"\n",
    "    print(f\"{id(some_dict)} -> function value is {some_dict}\")\n",
    "    \n",
    "some_function(di)\n",
    "print(f\"{id(di)} -> actual value is {di}\")"
   ]
  },
  {
   "cell_type": "code",
   "execution_count": 29,
   "metadata": {},
   "outputs": [
    {
     "name": "stdout",
     "output_type": "stream",
     "text": [
      "2453921534248 -> function value is {'Are', 'Tuples', 'By', 'Value', 'Passed'}\n",
      "2453921534248 -> actual value is {'Are', 'Tuples', 'By', 'Value', 'Passed'}\n"
     ]
    }
   ],
   "source": [
    "tup = {\"Tuples\", \"Are\", \"Passed\", \"By\", \"Value\"}\n",
    "\n",
    "def some_function(some_tuple):\n",
    "    print(f\"{id(some_tuple)} -> function value is {some_tuple}\")\n",
    "    \n",
    "some_function(tup)\n",
    "print(f\"{id(tup)} -> actual value is {tup}\")"
   ]
  },
  {
   "cell_type": "code",
   "execution_count": null,
   "metadata": {},
   "outputs": [],
   "source": []
  }
 ],
 "metadata": {
  "kernelspec": {
   "display_name": "Python 3",
   "language": "python",
   "name": "python3"
  },
  "language_info": {
   "codemirror_mode": {
    "name": "ipython",
    "version": 3
   },
   "file_extension": ".py",
   "mimetype": "text/x-python",
   "name": "python",
   "nbconvert_exporter": "python",
   "pygments_lexer": "ipython3",
   "version": "3.7.4"
  }
 },
 "nbformat": 4,
 "nbformat_minor": 2
}
