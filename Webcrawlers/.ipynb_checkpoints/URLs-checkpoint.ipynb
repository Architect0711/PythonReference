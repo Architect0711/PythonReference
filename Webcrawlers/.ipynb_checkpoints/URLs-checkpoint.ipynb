{
 "cells": [
  {
   "cell_type": "markdown",
   "metadata": {},
   "source": [
    "# Python Reference - URLs\n",
    "**Author:** Robert Bantele\n",
    "\n",
    "#### Definition\n",
    "working with urls in python\n",
    "\n",
    "##### Links\n",
    "https://stackoverflow.com/a/8223955/9351796  \n",
    "https://docs.python.org/3/library/urllib.parse.html?highlight=urllib%20parse#module-urllib.parse"
   ]
  },
  {
   "cell_type": "markdown",
   "metadata": {},
   "source": [
    "### merge relative url with absolute url"
   ]
  },
  {
   "cell_type": "code",
   "execution_count": 15,
   "metadata": {},
   "outputs": [
    {
     "name": "stdout",
     "output_type": "stream",
     "text": [
      "https://something.mywebsite.com/music/album123\n"
     ]
    }
   ],
   "source": [
    "import urllib.parse\n",
    "\n",
    "url1=\"https://something.mywebsite.com\"\n",
    "\n",
    "url2=\"/music/album123\"\n",
    "\n",
    "full_url = urllib.parse.urljoin(url1, url2)\n",
    "\n",
    "print(full_url)"
   ]
  },
  {
   "cell_type": "code",
   "execution_count": null,
   "metadata": {},
   "outputs": [],
   "source": []
  }
 ],
 "metadata": {
  "kernelspec": {
   "display_name": "Python 3",
   "language": "python",
   "name": "python3"
  },
  "language_info": {
   "codemirror_mode": {
    "name": "ipython",
    "version": 3
   },
   "file_extension": ".py",
   "mimetype": "text/x-python",
   "name": "python",
   "nbconvert_exporter": "python",
   "pygments_lexer": "ipython3",
   "version": "3.7.4"
  }
 },
 "nbformat": 4,
 "nbformat_minor": 2
}
