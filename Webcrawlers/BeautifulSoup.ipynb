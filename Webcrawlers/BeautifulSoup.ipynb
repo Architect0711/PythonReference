{
 "cells": [
  {
   "cell_type": "markdown",
   "metadata": {},
   "source": [
    "# Python Reference - BeautifulSoup\n",
    "**Author:** Robert Bantele\n",
    "\n",
    "#### Definition\n",
    "html parsing for webcrawlers\n",
    "\n",
    "##### Links\n",
    "https://stackoverflow.com/questions/4995116/only-extracting-text-from-this-element-not-its-children  \n",
    "https://stackoverflow.com/questions/24984398/how-to-select-tags-by-attribute-value-with-beautiful-soup  \n",
    "https://stackoverflow.com/questions/15920039/beautifulsoup-how-to-select-certain-tag  "
   ]
  },
  {
   "cell_type": "code",
   "execution_count": null,
   "metadata": {},
   "outputs": [],
   "source": []
  }
 ],
 "metadata": {
  "kernelspec": {
   "display_name": "Python 3",
   "language": "python",
   "name": "python3"
  },
  "language_info": {
   "codemirror_mode": {
    "name": "ipython",
    "version": 3
   },
   "file_extension": ".py",
   "mimetype": "text/x-python",
   "name": "python",
   "nbconvert_exporter": "python",
   "pygments_lexer": "ipython3",
   "version": "3.7.4"
  }
 },
 "nbformat": 4,
 "nbformat_minor": 2
}
