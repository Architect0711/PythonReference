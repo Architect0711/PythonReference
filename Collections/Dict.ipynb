{
 "cells": [
  {
   "cell_type": "markdown",
   "metadata": {},
   "source": [
    "# Python Reference - Dict\n",
    "**Author:** Robert Bantele\n",
    "\n",
    "#### Definition\n",
    "* indexed\n",
    "* ordered\n",
    "* mutable\n",
    "\n",
    "##### Links\n",
    "https://www.w3schools.com/python/python_dictionaries.asp"
   ]
  },
  {
   "cell_type": "markdown",
   "metadata": {},
   "source": [
    "### ctor\n",
    "use the built-in **dict()** method to create an empty dict"
   ]
  },
  {
   "cell_type": "code",
   "execution_count": 7,
   "metadata": {},
   "outputs": [
    {
     "name": "stdout",
     "output_type": "stream",
     "text": [
      "this is a dict: {}\n",
      "<class 'dict'>\n"
     ]
    }
   ],
   "source": [
    "is_dict = dict()\n",
    "print(f\"this is a dict: {is_dict}\")\n",
    "print(f\"{type(is_dict)}\")"
   ]
  },
  {
   "cell_type": "markdown",
   "metadata": {},
   "source": [
    "### inline declaration\n",
    "define key and value separated by a **,** and the key-value-pairs separated by a **:** for an inline dict declaration"
   ]
  },
  {
   "cell_type": "code",
   "execution_count": 8,
   "metadata": {},
   "outputs": [
    {
     "name": "stdout",
     "output_type": "stream",
     "text": [
      "this is a dict: {'brand': 'Ford', 'model': 'Mustang', 'year': 1964}\n",
      "<class 'dict'>\n"
     ]
    }
   ],
   "source": [
    "my_dict = {\n",
    "  \"brand\": \"Ford\",\n",
    "  \"model\": \"Mustang\",\n",
    "  \"year\": 1964\n",
    "}\n",
    "print(f\"this is a dict: {my_dict}\")\n",
    "print(f\"{type(my_dict)}\")"
   ]
  },
  {
   "cell_type": "markdown",
   "metadata": {},
   "source": [
    "### access values\n",
    "**square braces** throws an error if the key is not found. **get** returns **None**"
   ]
  },
  {
   "cell_type": "code",
   "execution_count": 3,
   "metadata": {},
   "outputs": [
    {
     "name": "stdout",
     "output_type": "stream",
     "text": [
      "Ford\n",
      "Ford\n",
      "None\n"
     ]
    }
   ],
   "source": [
    "print(my_dict[\"brand\"])\n",
    "# print(my_dict[\"asdasd\"]) throws an error\n",
    "print(my_dict.get(\"brand\"))\n",
    "print(my_dict.get(\"asdasd\")) # returns 'None'"
   ]
  },
  {
   "cell_type": "markdown",
   "metadata": {},
   "source": [
    "### access keys\n",
    "just loop over a dictionary to get the keys or use the explicit **dict.keys()** method"
   ]
  },
  {
   "cell_type": "code",
   "execution_count": 4,
   "metadata": {},
   "outputs": [
    {
     "name": "stdout",
     "output_type": "stream",
     "text": [
      "MUC => Munich\n",
      "BUD => Budapest\n",
      "HEL => Helsinki\n",
      "MUC => Munich\n",
      "BUD => Budapest\n",
      "HEL => Helsinki\n"
     ]
    }
   ],
   "source": [
    "d = {\"Munich\": \"MUC\", \"Budapest\": \"BUD\", \"Helsinki\": \"HEL\"}\n",
    "\n",
    "for key in d: \n",
    "    value = d[key]\n",
    "    print(f\"{value} => {key}\")\n",
    "    \n",
    "for key in d.keys(): \n",
    "    value = d[key]\n",
    "    print(f\"{value} => {key}\")"
   ]
  },
  {
   "cell_type": "markdown",
   "metadata": {},
   "source": [
    "**or** access both using **dict.items()**"
   ]
  },
  {
   "cell_type": "code",
   "execution_count": 5,
   "metadata": {},
   "outputs": [
    {
     "name": "stdout",
     "output_type": "stream",
     "text": [
      "MUC => Munich\n",
      "BUD => Budapest\n",
      "HEL => Helsinki\n"
     ]
    }
   ],
   "source": [
    "for key, value in d.items(): \n",
    "    print(f\"{value} => {key}\")"
   ]
  },
  {
   "cell_type": "markdown",
   "metadata": {},
   "source": [
    "### [defaultdict](https://docs.python.org/2/library/collections.html#defaultdict-objects)\n",
    "the **defaultdict** is a dictionary that automatically fills itself with values from a passed factory method"
   ]
  },
  {
   "cell_type": "code",
   "execution_count": 6,
   "metadata": {},
   "outputs": [
    {
     "name": "stdout",
     "output_type": "stream",
     "text": [
      "0\n",
      "5\n"
     ]
    }
   ],
   "source": [
    "from collections import defaultdict\n",
    "\n",
    "def generate_default_value():\n",
    "    return 0\n",
    "\n",
    "d = defaultdict(generate_default_value)\n",
    "print(d[\"nonExistingKey\"])\n",
    "d[\"nonExistingKey\"] += 5\n",
    "print(d[\"nonExistingKey\"])"
   ]
  },
  {
   "cell_type": "code",
   "execution_count": null,
   "metadata": {},
   "outputs": [],
   "source": []
  }
 ],
 "metadata": {
  "kernelspec": {
   "display_name": "Python 3",
   "language": "python",
   "name": "python3"
  },
  "language_info": {
   "codemirror_mode": {
    "name": "ipython",
    "version": 3
   },
   "file_extension": ".py",
   "mimetype": "text/x-python",
   "name": "python",
   "nbconvert_exporter": "python",
   "pygments_lexer": "ipython3",
   "version": "3.7.4"
  }
 },
 "nbformat": 4,
 "nbformat_minor": 2
}
