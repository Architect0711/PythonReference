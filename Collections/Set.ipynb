{
 "cells": [
  {
   "cell_type": "markdown",
   "metadata": {},
   "source": [
    "# Python Reference - Set\n",
    "**Author:** Robert Bantele\n",
    "\n",
    "#### Definition\n",
    "* unindexed\n",
    "* unordered\n",
    "* mutable ***(add only)***\n",
    "\n",
    "##### Links\n",
    "https://www.w3schools.com/python/python_sets.asp\n"
   ]
  },
  {
   "cell_type": "markdown",
   "metadata": {},
   "source": [
    "### ctor\n",
    "a set can be declared as comma-separated list of expressions enclosed in **curly** braces"
   ]
  },
  {
   "cell_type": "code",
   "execution_count": 6,
   "metadata": {},
   "outputs": [
    {
     "name": "stdout",
     "output_type": "stream",
     "text": [
      "this is a set: {1, 2, 3}\n",
      "<class 'set'>\n"
     ]
    }
   ],
   "source": [
    "set = {1, 2, 3}\n",
    "print(f\"this is a set: {set}\")\n",
    "print(f\"{type(set)}\")"
   ]
  },
  {
   "cell_type": "markdown",
   "metadata": {},
   "source": [
    "### count()\n",
    "len(collection) is the 'count' method in python:"
   ]
  },
  {
   "cell_type": "code",
   "execution_count": 1,
   "metadata": {},
   "outputs": [
    {
     "name": "stdout",
     "output_type": "stream",
     "text": [
      "{1, 2, 3} has a length of 3\n"
     ]
    }
   ],
   "source": [
    "print(f\"{{1, 2, 3}} has a length of {len({1, 2, 3})}\")"
   ]
  },
  {
   "cell_type": "code",
   "execution_count": null,
   "metadata": {},
   "outputs": [],
   "source": []
  }
 ],
 "metadata": {
  "kernelspec": {
   "display_name": "Python 3",
   "language": "python",
   "name": "python3"
  },
  "language_info": {
   "codemirror_mode": {
    "name": "ipython",
    "version": 3
   },
   "file_extension": ".py",
   "mimetype": "text/x-python",
   "name": "python",
   "nbconvert_exporter": "python",
   "pygments_lexer": "ipython3",
   "version": "3.7.4"
  }
 },
 "nbformat": 4,
 "nbformat_minor": 2
}
