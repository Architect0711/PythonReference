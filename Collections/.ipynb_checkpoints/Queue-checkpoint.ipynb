{
 "cells": [
  {
   "cell_type": "markdown",
   "metadata": {},
   "source": [
    "# Python Reference - Queue\n",
    "**Author:** Robert Bantele\n",
    "\n",
    "#### Definition\n",
    "\n",
    "##### Links\n",
    "https://docs.python.org/3/library/queue.html\n",
    "https://www.youtube.com/watch?v=HtSuA80QTyo&list=PLUl4u3cNGP61Oq3tWYp6V_F-5jb5L2iHb"
   ]
  },
  {
   "cell_type": "markdown",
   "metadata": {},
   "source": [
    "### fifo"
   ]
  },
  {
   "cell_type": "code",
   "execution_count": 4,
   "metadata": {},
   "outputs": [
    {
     "name": "stdout",
     "output_type": "stream",
     "text": [
      "<queue.Queue object at 0x000001D29D807448>\n",
      "next customer is Michael\n"
     ]
    }
   ],
   "source": [
    "import queue\n",
    "supermarket_line = queue.Queue()\n",
    "\n",
    "supermarket_line.put(\"Michael\")\n",
    "supermarket_line.put(\"Laura\")\n",
    "supermarket_line.put(\"Steven\")\n",
    "supermarket_line.put(\"Janine\")\n",
    "supermarket_line.put(\"Bob\")\n",
    "\n",
    "print(supermarket_line)\n",
    "\n",
    "next_customer = supermarket_line.get()\n",
    "print(f\"next customer is {next_customer}\")"
   ]
  },
  {
   "cell_type": "markdown",
   "metadata": {},
   "source": [
    "### lifo"
   ]
  },
  {
   "cell_type": "code",
   "execution_count": 5,
   "metadata": {},
   "outputs": [
    {
     "name": "stdout",
     "output_type": "stream",
     "text": [
      "<queue.LifoQueue object at 0x000001D29D807A08>\n",
      "top item on the stack is The Ninja Report\n"
     ]
    }
   ],
   "source": [
    "from queue import LifoQueue\n",
    "\n",
    "paper_stack = queue.LifoQueue()\n",
    "\n",
    "paper_stack.put(\"Morning Paper\")\n",
    "paper_stack.put(\"Timesheet\")\n",
    "paper_stack.put(\"Contract\")\n",
    "paper_stack.put(\"Invoice\")\n",
    "paper_stack.put(\"The Ninja Report\")\n",
    "\n",
    "print(paper_stack)\n",
    "\n",
    "top_item = paper_stack.get()\n",
    "print(f\"top item on the stack is {top_item}\")"
   ]
  },
  {
   "cell_type": "markdown",
   "metadata": {},
   "source": [
    "### priority queue\n",
    "sorts the items automatically in **ascending** order"
   ]
  },
  {
   "cell_type": "code",
   "execution_count": 14,
   "metadata": {},
   "outputs": [
    {
     "name": "stdout",
     "output_type": "stream",
     "text": [
      "<queue.PriorityQueue object at 0x000001D29D810D48>\n",
      "least valueable asset is (100000, 'Ferrari')\n"
     ]
    }
   ],
   "source": [
    "from queue import PriorityQueue\n",
    "\n",
    "assets = queue.PriorityQueue()\n",
    "\n",
    "assets.put((10000000, \"Malibu Beach House\"))\n",
    "assets.put((100000, \"Ferrari\"))\n",
    "assets.put((1000000, \"Speedboat\"))\n",
    "\n",
    "print(assets)\n",
    "\n",
    "least = assets.get()\n",
    "print(f\"least valueable asset is {least}\")"
   ]
  },
  {
   "cell_type": "markdown",
   "metadata": {},
   "source": [
    "for **descending** order just negate the sort values"
   ]
  },
  {
   "cell_type": "code",
   "execution_count": 15,
   "metadata": {},
   "outputs": [
    {
     "name": "stdout",
     "output_type": "stream",
     "text": [
      "<queue.PriorityQueue object at 0x000001D29D810448>\n",
      "most valueable asset is (-10000000, 'Malibu Beach House')\n"
     ]
    }
   ],
   "source": [
    "assets = queue.PriorityQueue()\n",
    "\n",
    "assets.put((-10000000, \"Malibu Beach House\"))\n",
    "assets.put((-100000, \"Ferrari\"))\n",
    "assets.put((-1000000, \"Speedboat\"))\n",
    "\n",
    "print(assets)\n",
    "\n",
    "most = assets.get()\n",
    "print(f\"most valueable asset is {most}\")"
   ]
  },
  {
   "cell_type": "code",
   "execution_count": null,
   "metadata": {},
   "outputs": [],
   "source": []
  }
 ],
 "metadata": {
  "kernelspec": {
   "display_name": "Python 3",
   "language": "python",
   "name": "python3"
  },
  "language_info": {
   "codemirror_mode": {
    "name": "ipython",
    "version": 3
   },
   "file_extension": ".py",
   "mimetype": "text/x-python",
   "name": "python",
   "nbconvert_exporter": "python",
   "pygments_lexer": "ipython3",
   "version": "3.7.4"
  }
 },
 "nbformat": 4,
 "nbformat_minor": 2
}
