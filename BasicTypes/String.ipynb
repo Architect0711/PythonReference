{
 "cells": [
  {
   "cell_type": "markdown",
   "metadata": {},
   "source": [
    "# Python Reference - String\n",
    "**Author:** Robert Bantele"
   ]
  },
  {
   "cell_type": "markdown",
   "metadata": {},
   "source": [
    "### multiplying strings\n",
    "you can multiply strings using the * operator"
   ]
  },
  {
   "cell_type": "code",
   "execution_count": 2,
   "metadata": {},
   "outputs": [
    {
     "name": "stdout",
     "output_type": "stream",
     "text": [
      "aaaaa\n"
     ]
    }
   ],
   "source": [
    "print(\"a\" * 5)"
   ]
  },
  {
   "cell_type": "markdown",
   "metadata": {},
   "source": [
    "### escape character\n",
    "the escape character is \\"
   ]
  },
  {
   "cell_type": "code",
   "execution_count": 4,
   "metadata": {},
   "outputs": [
    {
     "name": "stdout",
     "output_type": "stream",
     "text": [
      " \" \n"
     ]
    }
   ],
   "source": [
    "print(\" \\\" \")"
   ]
  },
  {
   "cell_type": "markdown",
   "metadata": {},
   "source": [
    "### uppercase, lowercase or title case formatting"
   ]
  },
  {
   "cell_type": "code",
   "execution_count": 7,
   "metadata": {},
   "outputs": [
    {
     "name": "stdout",
     "output_type": "stream",
     "text": [
      "\"myString\".upper(): \"MYSTRING\"\n",
      "\"myString\".lower(): \"mystring\"\n",
      "\"myString\".title(): \"Mystring\"\n"
     ]
    }
   ],
   "source": [
    "print(\"\\\"myString\\\".upper(): \\\"\" + \"myString\".upper() + \"\\\"\")\n",
    "print(\"\\\"myString\\\".lower(): \\\"\" + \"myString\".lower() + \"\\\"\")\n",
    "print(\"\\\"myString\\\".title(): \\\"\" + \"myString\".title() + \"\\\"\")"
   ]
  },
  {
   "cell_type": "markdown",
   "metadata": {},
   "source": [
    "### length\n",
    "len(str) is the 'length' method in python"
   ]
  },
  {
   "cell_type": "code",
   "execution_count": 10,
   "metadata": {},
   "outputs": [
    {
     "name": "stdout",
     "output_type": "stream",
     "text": [
      "len(\"myString\"): 8\n"
     ]
    }
   ],
   "source": [
    "print(\"len(\\\"myString\\\"): \" + str(len(\"myString\")))"
   ]
  },
  {
   "cell_type": "markdown",
   "metadata": {},
   "source": [
    "### trim\n",
    "strip() is the 'trim' method in python"
   ]
  },
  {
   "cell_type": "code",
   "execution_count": 9,
   "metadata": {},
   "outputs": [
    {
     "name": "stdout",
     "output_type": "stream",
     "text": [
      "\"myString   \".strip(): \"myString\"\n"
     ]
    }
   ],
   "source": [
    "print(\"\\\"myString   \\\".strip(): \\\"\" + \"myString   \".strip() + \"\\\"\")"
   ]
  },
  {
   "cell_type": "markdown",
   "metadata": {},
   "source": [
    "### contains, indexof\n",
    "find() returns the index of a (case-sensitive) (sub)string in a string, returns -1 on not found"
   ]
  },
  {
   "cell_type": "code",
   "execution_count": 11,
   "metadata": {},
   "outputs": [
    {
     "name": "stdout",
     "output_type": "stream",
     "text": [
      "\"myString\".find(\"str\"): -1\n",
      "\"myString\".find(\"Str\"): 2\n"
     ]
    }
   ],
   "source": [
    "print(\"\\\"myString\\\".find(\\\"str\\\"): \" + str(\"myString\".find(\"str\")))\n",
    "print(\"\\\"myString\\\".find(\\\"Str\\\"): \" + str(\"myString\".find(\"Str\")))"
   ]
  },
  {
   "cell_type": "markdown",
   "metadata": {},
   "source": [
    "### characters\n",
    "characters in strings can be accessed via their index in square brackets"
   ]
  },
  {
   "cell_type": "code",
   "execution_count": 12,
   "metadata": {},
   "outputs": [
    {
     "name": "stdout",
     "output_type": "stream",
     "text": [
      "\"myString\"[1] = \"y\"\n"
     ]
    }
   ],
   "source": [
    "print(\"\\\"myString\\\"[1] = \\\"\" + \"myString\"[1] + \"\\\"\")"
   ]
  },
  {
   "cell_type": "markdown",
   "metadata": {},
   "source": [
    "negative index will start from the back of the string"
   ]
  },
  {
   "cell_type": "code",
   "execution_count": 13,
   "metadata": {},
   "outputs": [
    {
     "name": "stdout",
     "output_type": "stream",
     "text": [
      "\"myString\"[-1] = \"g\"\n"
     ]
    }
   ],
   "source": [
    "print(\"\\\"myString\\\"[-1] = \\\"\" + \"myString\"[-1] + \"\\\"\")"
   ]
  },
  {
   "cell_type": "markdown",
   "metadata": {},
   "source": [
    "### substring\n",
    "the substring function is used by specifying start and end index in square braces separated by a :"
   ]
  },
  {
   "cell_type": "code",
   "execution_count": 14,
   "metadata": {},
   "outputs": [
    {
     "name": "stdout",
     "output_type": "stream",
     "text": [
      "\"myString\"[1:4] = \"ySt\"\n"
     ]
    }
   ],
   "source": [
    "print(\"\\\"myString\\\"[1:4] = \\\"\" + \"myString\"[1:4] + \"\\\"\")"
   ]
  },
  {
   "cell_type": "markdown",
   "metadata": {},
   "source": [
    "start index defaults to 0 when omitted"
   ]
  },
  {
   "cell_type": "code",
   "execution_count": 15,
   "metadata": {},
   "outputs": [
    {
     "name": "stdout",
     "output_type": "stream",
     "text": [
      "\"myString\"[:4] = \"mySt\"\n"
     ]
    }
   ],
   "source": [
    "print(\"\\\"myString\\\"[:4] = \\\"\" + \"myString\"[:4] + \"\\\"\")"
   ]
  },
  {
   "cell_type": "markdown",
   "metadata": {},
   "source": [
    "end index defaults to len(str) when omitted"
   ]
  },
  {
   "cell_type": "code",
   "execution_count": 16,
   "metadata": {},
   "outputs": [
    {
     "name": "stdout",
     "output_type": "stream",
     "text": [
      "\"myString\"[1:] = \"yString\"\n"
     ]
    }
   ],
   "source": [
    "print(\"\\\"myString\\\"[1:] = \\\"\" + \"myString\"[1:] + \"\\\"\")"
   ]
  },
  {
   "cell_type": "markdown",
   "metadata": {},
   "source": [
    "### string interpolation\n",
    "the examples are using f strings, which seemed the most convenient for me. \n",
    "there are other forms of string interpolation in python which can be read about here:\n",
    "\n",
    "https://www.programiz.com/python-programming/string-interpolation\n",
    "\n",
    "prefix a string literal with an f to interpolate variable values with curly braces"
   ]
  },
  {
   "cell_type": "code",
   "execution_count": 19,
   "metadata": {},
   "outputs": [
    {
     "name": "stdout",
     "output_type": "stream",
     "text": [
      "Hello World! This is Python\n"
     ]
    }
   ],
   "source": [
    "name: str = \"World\"\n",
    "program: str = \"Python\"\n",
    "print(f\"Hello {name}! This is {program}\")"
   ]
  },
  {
   "cell_type": "markdown",
   "metadata": {},
   "source": [
    "the f string can even do inline arithmetics"
   ]
  },
  {
   "cell_type": "code",
   "execution_count": 23,
   "metadata": {},
   "outputs": [
    {
     "name": "stdout",
     "output_type": "stream",
     "text": [
      "4 times 3 is 12.\n"
     ]
    }
   ],
   "source": [
    "a = 4\n",
    "b = 3\n",
    "print(f'{a} times {b} is {a * b}.')"
   ]
  },
  {
   "cell_type": "markdown",
   "metadata": {},
   "source": [
    "### splitting strings\n",
    "the split() method returns a list of strings.\n",
    "the parameter will default to \" \" when omitted"
   ]
  },
  {
   "cell_type": "code",
   "execution_count": 26,
   "metadata": {},
   "outputs": [
    {
     "name": "stdout",
     "output_type": "stream",
     "text": [
      "['i', 'am', 'a', 'sentence', 'with', 'many', 'words']\n",
      "['i am a sentence with many words']\n"
     ]
    }
   ],
   "source": [
    "print(\"i am a sentence with many words\".split())\n",
    "print(\"i am a sentence with many words\".split(\",\"))"
   ]
  },
  {
   "cell_type": "markdown",
   "metadata": {},
   "source": [
    "### joining lists of strings\n",
    "python offers a great way to join a list of strings using the join() method"
   ]
  },
  {
   "cell_type": "code",
   "execution_count": 27,
   "metadata": {},
   "outputs": [
    {
     "name": "stdout",
     "output_type": "stream",
     "text": [
      "Max, Monika, Erik, Franziska\n"
     ]
    }
   ],
   "source": [
    "students = [\"Max\", \"Monika\", \"Erik\", \"Franziska\"]\n",
    "print(\", \".join(students))"
   ]
  },
  {
   "cell_type": "code",
   "execution_count": null,
   "metadata": {},
   "outputs": [],
   "source": []
  }
 ],
 "metadata": {
  "kernelspec": {
   "display_name": "Python 3",
   "language": "python",
   "name": "python3"
  },
  "language_info": {
   "codemirror_mode": {
    "name": "ipython",
    "version": 3
   },
   "file_extension": ".py",
   "mimetype": "text/x-python",
   "name": "python",
   "nbconvert_exporter": "python",
   "pygments_lexer": "ipython3",
   "version": "3.7.4"
  }
 },
 "nbformat": 4,
 "nbformat_minor": 2
}
