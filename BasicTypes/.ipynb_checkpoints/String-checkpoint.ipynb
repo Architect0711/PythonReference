{
 "cells": [
  {
   "cell_type": "markdown",
   "metadata": {},
   "source": [
    "# Python Reference - String\n",
    "**Author:** Robert Bantele\n",
    "\n",
    "#### Definition\n",
    "\n",
    "##### Links\n",
    "https://docs.python.org/3.6/library/string.html?highlight=string#module-string"
   ]
  },
  {
   "cell_type": "markdown",
   "metadata": {},
   "source": [
    "### multiplying strings\n",
    "you can multiply strings using the * operator"
   ]
  },
  {
   "cell_type": "code",
   "execution_count": 2,
   "metadata": {},
   "outputs": [
    {
     "name": "stdout",
     "output_type": "stream",
     "text": [
      "aaaaa\n"
     ]
    }
   ],
   "source": [
    "print(\"a\" * 5)"
   ]
  },
  {
   "cell_type": "markdown",
   "metadata": {},
   "source": [
    "### escape character\n",
    "the escape character is **\\**"
   ]
  },
  {
   "cell_type": "code",
   "execution_count": 4,
   "metadata": {},
   "outputs": [
    {
     "name": "stdout",
     "output_type": "stream",
     "text": [
      " \" \n"
     ]
    }
   ],
   "source": [
    "print(\" \\\" \")"
   ]
  },
  {
   "cell_type": "markdown",
   "metadata": {},
   "source": [
    "### uppercase, lowercase or title case formatting"
   ]
  },
  {
   "cell_type": "code",
   "execution_count": 7,
   "metadata": {},
   "outputs": [
    {
     "name": "stdout",
     "output_type": "stream",
     "text": [
      "\"myString\".upper(): \"MYSTRING\"\n",
      "\"myString\".lower(): \"mystring\"\n",
      "\"myString\".title(): \"Mystring\"\n"
     ]
    }
   ],
   "source": [
    "print(\"\\\"myString\\\".upper(): \\\"\" + \"myString\".upper() + \"\\\"\")\n",
    "print(\"\\\"myString\\\".lower(): \\\"\" + \"myString\".lower() + \"\\\"\")\n",
    "print(\"\\\"myString\\\".title(): \\\"\" + \"myString\".title() + \"\\\"\")"
   ]
  },
  {
   "cell_type": "markdown",
   "metadata": {},
   "source": [
    "### length\n",
    "**len(str)** is the 'length' method in python"
   ]
  },
  {
   "cell_type": "code",
   "execution_count": 10,
   "metadata": {},
   "outputs": [
    {
     "name": "stdout",
     "output_type": "stream",
     "text": [
      "len(\"myString\"): 8\n"
     ]
    }
   ],
   "source": [
    "print(\"len(\\\"myString\\\"): \" + str(len(\"myString\")))"
   ]
  },
  {
   "cell_type": "markdown",
   "metadata": {},
   "source": [
    "### trim\n",
    "**strip()** is the 'trim' method in python. only right side: **rstrip()** only left side **lstrip()**"
   ]
  },
  {
   "cell_type": "code",
   "execution_count": 11,
   "metadata": {},
   "outputs": [
    {
     "name": "stdout",
     "output_type": "stream",
     "text": [
      "\"   myString   \".strip(): \"myString\"\n",
      "\"   myString   \".lstrip(): \"myString   \"\n",
      "\"___myString___\".rstrip(): \"___myString\"\n"
     ]
    }
   ],
   "source": [
    "print(\"\\\"   myString   \\\".strip(): \\\"\" + \"   myString   \".strip() + \"\\\"\")\n",
    "print(\"\\\"   myString   \\\".lstrip(): \\\"\" + \"   myString   \".lstrip() + \"\\\"\")\n",
    "print(\"\\\"___myString___\\\".rstrip(): \\\"\" + \"___myString___\".rstrip(\"_\") + \"\\\"\")"
   ]
  },
  {
   "cell_type": "markdown",
   "metadata": {},
   "source": [
    "### replace"
   ]
  },
  {
   "cell_type": "code",
   "execution_count": 12,
   "metadata": {},
   "outputs": [
    {
     "data": {
      "text/plain": [
       "'Hello Moon'"
      ]
     },
     "execution_count": 12,
     "metadata": {},
     "output_type": "execute_result"
    }
   ],
   "source": [
    "myString = \"Hello World\"\n",
    "myString.replace(\"World\", \"Moon\")"
   ]
  },
  {
   "cell_type": "markdown",
   "metadata": {},
   "source": [
    "### contains, indexof\n",
    "**find()** returns the index of the first occurrence of a (case-sensitive) (sub)string in a string, returns -1 on not found  \n",
    "**rfind()** returns the index of the last occurrence of a (case-sensitive) (sub)string in a string, returns -1 on not found  "
   ]
  },
  {
   "cell_type": "code",
   "execution_count": 4,
   "metadata": {},
   "outputs": [
    {
     "name": "stdout",
     "output_type": "stream",
     "text": [
      "\"myStringString\".find(\"str\"): -1\n",
      "\"myStringString\".find(\"Str\"): 2\n",
      "\"myStringString\".find(\"Str\"): -1\n",
      "\"myStringString\".find(\"Str\"): 8\n"
     ]
    }
   ],
   "source": [
    "print(\"\\\"myStringString\\\".find(\\\"str\\\"): \" + str(\"myStringString\".find(\"str\")))\n",
    "print(\"\\\"myStringString\\\".find(\\\"Str\\\"): \" + str(\"myStringString\".find(\"Str\")))\n",
    "print(\"\\\"myStringString\\\".find(\\\"Str\\\"): \" + str(\"myStringString\".rfind(\"str\")))\n",
    "print(\"\\\"myStringString\\\".find(\\\"Str\\\"): \" + str(\"myStringString\".rfind(\"Str\")))"
   ]
  },
  {
   "cell_type": "markdown",
   "metadata": {},
   "source": [
    "### startswith, endswith\n",
    "both are case sensitive"
   ]
  },
  {
   "cell_type": "code",
   "execution_count": 3,
   "metadata": {},
   "outputs": [
    {
     "name": "stdout",
     "output_type": "stream",
     "text": [
      "True\n",
      "False\n",
      "True\n"
     ]
    }
   ],
   "source": [
    "statement = \"Today is a good day\"\n",
    "print(statement.startswith(\"Today\"))\n",
    "print(statement.startswith(\"today\"))\n",
    "print(statement.endswith(\"day\"))"
   ]
  },
  {
   "cell_type": "markdown",
   "metadata": {},
   "source": [
    "### characters\n",
    "characters in strings can be accessed via their index in **square** braces"
   ]
  },
  {
   "cell_type": "code",
   "execution_count": 12,
   "metadata": {},
   "outputs": [
    {
     "name": "stdout",
     "output_type": "stream",
     "text": [
      "\"myString\"[1] = \"y\"\n"
     ]
    }
   ],
   "source": [
    "print(\"\\\"myString\\\"[1] = \\\"\" + \"myString\"[1] + \"\\\"\")"
   ]
  },
  {
   "cell_type": "markdown",
   "metadata": {},
   "source": [
    "negative index will start from the back of the string"
   ]
  },
  {
   "cell_type": "code",
   "execution_count": 13,
   "metadata": {},
   "outputs": [
    {
     "name": "stdout",
     "output_type": "stream",
     "text": [
      "\"myString\"[-1] = \"g\"\n"
     ]
    }
   ],
   "source": [
    "print(\"\\\"myString\\\"[-1] = \\\"\" + \"myString\"[-1] + \"\\\"\")"
   ]
  },
  {
   "cell_type": "markdown",
   "metadata": {},
   "source": [
    "### substring\n",
    "the substring function is used by specifying start and end index in **square** braces separated by a :"
   ]
  },
  {
   "cell_type": "code",
   "execution_count": 14,
   "metadata": {},
   "outputs": [
    {
     "name": "stdout",
     "output_type": "stream",
     "text": [
      "\"myString\"[1:4] = \"ySt\"\n"
     ]
    }
   ],
   "source": [
    "print(\"\\\"myString\\\"[1:4] = \\\"\" + \"myString\"[1:4] + \"\\\"\")"
   ]
  },
  {
   "cell_type": "markdown",
   "metadata": {},
   "source": [
    "start index defaults to 0 when omitted"
   ]
  },
  {
   "cell_type": "code",
   "execution_count": 15,
   "metadata": {},
   "outputs": [
    {
     "name": "stdout",
     "output_type": "stream",
     "text": [
      "\"myString\"[:4] = \"mySt\"\n"
     ]
    }
   ],
   "source": [
    "print(\"\\\"myString\\\"[:4] = \\\"\" + \"myString\"[:4] + \"\\\"\")"
   ]
  },
  {
   "cell_type": "markdown",
   "metadata": {},
   "source": [
    "end index defaults to **len(str) - 1** when omitted"
   ]
  },
  {
   "cell_type": "code",
   "execution_count": 16,
   "metadata": {},
   "outputs": [
    {
     "name": "stdout",
     "output_type": "stream",
     "text": [
      "\"myString\"[1:] = \"yString\"\n"
     ]
    }
   ],
   "source": [
    "print(\"\\\"myString\\\"[1:] = \\\"\" + \"myString\"[1:] + \"\\\"\")"
   ]
  },
  {
   "cell_type": "markdown",
   "metadata": {},
   "source": [
    "### string interpolation\n",
    "the examples are using **f strings**, which seemed the most convenient for me. \n",
    "there are other forms of string interpolation in python which can be read about here:\n",
    "\n",
    "https://www.programiz.com/python-programming/string-interpolation\n",
    "\n",
    "prefix a string with an **f** to interpolate variable values with curly braces"
   ]
  },
  {
   "cell_type": "code",
   "execution_count": 19,
   "metadata": {},
   "outputs": [
    {
     "name": "stdout",
     "output_type": "stream",
     "text": [
      "Hello World! This is Python\n"
     ]
    }
   ],
   "source": [
    "name: str = \"World\"\n",
    "program: str = \"Python\"\n",
    "print(f\"Hello {name}! This is {program}\")"
   ]
  },
  {
   "cell_type": "markdown",
   "metadata": {},
   "source": [
    "the f string can even do inline arithmetics"
   ]
  },
  {
   "cell_type": "code",
   "execution_count": 23,
   "metadata": {},
   "outputs": [
    {
     "name": "stdout",
     "output_type": "stream",
     "text": [
      "4 times 3 is 12.\n"
     ]
    }
   ],
   "source": [
    "a = 4\n",
    "b = 3\n",
    "print(f'{a} times {b} is {a * b}.')"
   ]
  },
  {
   "cell_type": "markdown",
   "metadata": {},
   "source": [
    "### [string.format](https://docs.python.org/3.6/library/string.html?highlight=string#format-string-syntax)"
   ]
  },
  {
   "cell_type": "code",
   "execution_count": 21,
   "metadata": {},
   "outputs": [
    {
     "name": "stdout",
     "output_type": "stream",
     "text": [
      "param: type = <class 'int'>, value = 5\n",
      "param: type = <class 'str'>, value = text\n",
      "The value of Pi is 3.1416\n",
      "I have 3 apples\n"
     ]
    }
   ],
   "source": [
    "def my_method(param):\n",
    "    print(\"param: type = {0}, value = {1}\".format(type(param), param))\n",
    "    \n",
    "my_method(5)    \n",
    "my_method(\"text\")\n",
    "\n",
    "import math\n",
    "\n",
    "print(\"The value of Pi is {0:.4f}\".format(math.pi))\n",
    "\n",
    "print(\"I have {count} {fruit}\".format(count=3, fruit=\"apples\"))"
   ]
  },
  {
   "cell_type": "markdown",
   "metadata": {},
   "source": [
    "### splitting strings\n",
    "the split() method returns a list of strings.\n",
    "the parameter will default to \" \" when omitted"
   ]
  },
  {
   "cell_type": "code",
   "execution_count": 26,
   "metadata": {},
   "outputs": [
    {
     "name": "stdout",
     "output_type": "stream",
     "text": [
      "['i', 'am', 'a', 'sentence', 'with', 'many', 'words']\n",
      "['i am a sentence with many words']\n"
     ]
    }
   ],
   "source": [
    "print(\"i am a sentence with many words\".split())\n",
    "print(\"i am a sentence with many words\".split(\",\"))"
   ]
  },
  {
   "cell_type": "markdown",
   "metadata": {},
   "source": [
    "### joining lists of strings\n",
    "python offers a great way to join a list of strings using the join() method"
   ]
  },
  {
   "cell_type": "code",
   "execution_count": 27,
   "metadata": {},
   "outputs": [
    {
     "name": "stdout",
     "output_type": "stream",
     "text": [
      "Max, Monika, Erik, Franziska\n"
     ]
    }
   ],
   "source": [
    "students = [\"Max\", \"Monika\", \"Erik\", \"Franziska\"]\n",
    "print(\", \".join(students))"
   ]
  },
  {
   "cell_type": "markdown",
   "metadata": {},
   "source": [
    "### string literal\n",
    "prefix the string with an **r** to turn a string into a **raw string**  "
   ]
  },
  {
   "cell_type": "code",
   "execution_count": 3,
   "metadata": {},
   "outputs": [
    {
     "name": "stdout",
     "output_type": "stream",
     "text": [
      "https://www.google.com/\n"
     ]
    }
   ],
   "source": [
    "url = r\"https://www.google.com/\"\n",
    "\n",
    "print(url)"
   ]
  },
  {
   "cell_type": "code",
   "execution_count": null,
   "metadata": {},
   "outputs": [],
   "source": []
  }
 ],
 "metadata": {
  "kernelspec": {
   "display_name": "Python 3",
   "language": "python",
   "name": "python3"
  },
  "language_info": {
   "codemirror_mode": {
    "name": "ipython",
    "version": 3
   },
   "file_extension": ".py",
   "mimetype": "text/x-python",
   "name": "python",
   "nbconvert_exporter": "python",
   "pygments_lexer": "ipython3",
   "version": "3.7.6"
  }
 },
 "nbformat": 4,
 "nbformat_minor": 2
}
