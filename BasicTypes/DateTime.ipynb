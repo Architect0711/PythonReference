{
 "cells": [
  {
   "cell_type": "markdown",
   "metadata": {},
   "source": [
    "# Python Reference - DateTime\n",
    "**Author:** Robert Bantele\n",
    "\n",
    "#### Definition\n",
    "A date in Python is not a data type of its own, but we can import a module named datetime to work with dates as date objects\n",
    "\n",
    "##### Links\n",
    "https://docs.python.org/3/library/datetime.html  \n",
    "https://www.w3schools.com/python/python_datetime.asp"
   ]
  },
  {
   "cell_type": "markdown",
   "metadata": {},
   "source": [
    "### import"
   ]
  },
  {
   "cell_type": "code",
   "execution_count": 1,
   "metadata": {},
   "outputs": [],
   "source": [
    "from datetime import datetime"
   ]
  },
  {
   "cell_type": "markdown",
   "metadata": {},
   "source": [
    "### ctor"
   ]
  },
  {
   "cell_type": "markdown",
   "metadata": {},
   "source": [
    "datetime can be constructed by specifying the numbers for year, month & days (mandatory)"
   ]
  },
  {
   "cell_type": "code",
   "execution_count": 2,
   "metadata": {},
   "outputs": [
    {
     "data": {
      "text/plain": [
       "datetime.datetime(2015, 6, 2, 0, 0)"
      ]
     },
     "execution_count": 2,
     "metadata": {},
     "output_type": "execute_result"
    }
   ],
   "source": [
    "datetime(2015, 6, 2)"
   ]
  },
  {
   "cell_type": "markdown",
   "metadata": {},
   "source": [
    "hours, minutes, seconds and microseconds are optional parameters that default to 0"
   ]
  },
  {
   "cell_type": "code",
   "execution_count": 3,
   "metadata": {},
   "outputs": [
    {
     "data": {
      "text/plain": [
       "datetime.datetime(2015, 6, 2, 13, 0)"
      ]
     },
     "execution_count": 3,
     "metadata": {},
     "output_type": "execute_result"
    }
   ],
   "source": [
    "datetime(2015, 6, 2, 13)"
   ]
  },
  {
   "cell_type": "code",
   "execution_count": 7,
   "metadata": {},
   "outputs": [
    {
     "data": {
      "text/plain": [
       "datetime.datetime(2015, 6, 2, 13, 57)"
      ]
     },
     "execution_count": 7,
     "metadata": {},
     "output_type": "execute_result"
    }
   ],
   "source": [
    "datetime(2015, 6, 2, 13, 57)"
   ]
  },
  {
   "cell_type": "code",
   "execution_count": 9,
   "metadata": {},
   "outputs": [
    {
     "data": {
      "text/plain": [
       "datetime.datetime(2015, 6, 2, 13, 57, 59)"
      ]
     },
     "execution_count": 9,
     "metadata": {},
     "output_type": "execute_result"
    }
   ],
   "source": [
    "datetime(2015, 6, 2, 13, 57, 59)"
   ]
  },
  {
   "cell_type": "code",
   "execution_count": 10,
   "metadata": {},
   "outputs": [
    {
     "data": {
      "text/plain": [
       "datetime.datetime(2015, 6, 2, 13, 57, 59, 500)"
      ]
     },
     "execution_count": 10,
     "metadata": {},
     "output_type": "execute_result"
    }
   ],
   "source": [
    "datetime(2015, 6, 2, 13, 57, 59, 500)"
   ]
  },
  {
   "cell_type": "markdown",
   "metadata": {},
   "source": [
    "### now"
   ]
  },
  {
   "cell_type": "code",
   "execution_count": 5,
   "metadata": {},
   "outputs": [
    {
     "data": {
      "text/plain": [
       "datetime.datetime(2020, 3, 15, 17, 11, 18, 92806)"
      ]
     },
     "execution_count": 5,
     "metadata": {},
     "output_type": "execute_result"
    }
   ],
   "source": [
    "datetime.now()"
   ]
  },
  {
   "cell_type": "markdown",
   "metadata": {},
   "source": [
    "### timedelta = TimeSpan\n",
    "subtracting two datetimes returns a **timedelta** object which is similar to C#'s \"TimeSpan\""
   ]
  },
  {
   "cell_type": "code",
   "execution_count": 14,
   "metadata": {},
   "outputs": [
    {
     "name": "stdout",
     "output_type": "stream",
     "text": [
      "43539 days, 17:14:14.021964\n",
      "<class 'datetime.timedelta'>\n"
     ]
    }
   ],
   "source": [
    "delta = datetime.now() - datetime(1900,12,31)\n",
    "print(delta)\n",
    "print(type(delta))"
   ]
  },
  {
   "cell_type": "markdown",
   "metadata": {},
   "source": [
    "### parse from string\n",
    "**datetime.strptime(datetimestring: str, pattern: str)**  creates a datetime object from a datetime string and a pattern string"
   ]
  },
  {
   "cell_type": "code",
   "execution_count": 16,
   "metadata": {},
   "outputs": [
    {
     "data": {
      "text/plain": [
       "datetime.datetime(2017, 12, 31, 20, 59)"
      ]
     },
     "execution_count": 16,
     "metadata": {},
     "output_type": "execute_result"
    }
   ],
   "source": [
    "datetime.strptime(\"2017:12:31:20:59\", \"%Y:%m:%d:%H:%M\")"
   ]
  },
  {
   "cell_type": "markdown",
   "metadata": {},
   "source": [
    "### format to string\n",
    "**datetime.strftime(pattern: str)** creates a formatted string from a datetime object"
   ]
  },
  {
   "cell_type": "code",
   "execution_count": 17,
   "metadata": {},
   "outputs": [
    {
     "name": "stdout",
     "output_type": "stream",
     "text": [
      "2020-03-15_17:35:53\n"
     ]
    }
   ],
   "source": [
    "print(datetime.now().strftime(\"%Y-%m-%d_%H:%M:%S\"))"
   ]
  },
  {
   "cell_type": "markdown",
   "metadata": {},
   "source": [
    "#### playground\n",
    "use this cell to play around with formatting datetime strings"
   ]
  },
  {
   "cell_type": "code",
   "execution_count": 21,
   "metadata": {},
   "outputs": [
    {
     "name": "stdout",
     "output_type": "stream",
     "text": [
      "2020.03.15 17:38:01\n"
     ]
    }
   ],
   "source": [
    "pattern: str = \"%Y.%m.%d %H:%M:%S\"\n",
    "    \n",
    "print(datetime.now().strftime(pattern))"
   ]
  },
  {
   "cell_type": "markdown",
   "metadata": {},
   "source": [
    "#### patterns\n",
    "##### Note: Examples are based on datetime.datetime(2013, 9, 30, 7, 6, 5)\n",
    "|Code   | Meaning | Example |\n",
    "|:-----:|:--------|:--------|\n",
    "|**%a** |\tWeekday as locale’s abbreviated name. | **Mon** |\n",
    "|**%A** |\tWeekday as locale’s full name. | **Monday** |\n",
    "|**%w** |\tWeekday as a decimal number, where 0 is Sunday and 6 is Saturday. | **1** |\n",
    "|**%d** |\tDay of the month as a zero-padded decimal number. | **30** |\n",
    "|**%-d** |\tDay of the month as a decimal number. (Platform specific) | **30** |\n",
    "|**%b** |\tMonth as locale’s abbreviated name. | **Sep** |\n",
    "|**%B** |\tMonth as locale’s full name. | **September** |\n",
    "|**%m** |\tMonth as a zero-padded decimal number. | **09** |\n",
    "|**%-m** |\tMonth as a decimal number. (Platform specific) | **9** |\n",
    "|**%y** |\tYear without century as a zero-padded decimal number. | **13** |\n",
    "|**%Y** |\tYear with century as a decimal number. | **2013** |\n",
    "|**%H** |\tHour (24-hour clock) as a zero-padded decimal number. | **07** |\n",
    "|**%-H** |\tHour (24-hour clock) as a decimal number. (Platform specific) | **7** |\n",
    "|**%I** |\tHour (12-hour clock) as a zero-padded decimal number. | **07** |\n",
    "|**%-I** |\tHour (12-hour clock) as a decimal number. (Platform specific) | **7** |\n",
    "|**%p** |\tLocale’s equivalent of either AM or PM. | **AM** |\n",
    "|**%M** |\tMinute as a zero-padded decimal number. | **06** |\n",
    "|**%-M** |\tMinute as a decimal number. (Platform specific) | **6** |\n",
    "|**%S** |\tSecond as a zero-padded decimal number. | **05** |\n",
    "|**%-S** |\tSecond as a decimal number. (Platform specific) | **5** |\n",
    "|**%f** |\tMicrosecond as a decimal number, zero-padded on the left. | **000000** |\n",
    "|**%z** |\tUTC offset in the form +HHMM or -HHMM (empty string if the the object is naive).  |  x |\n",
    "|**%Z** |\tTime zone name (empty string if the object is naive).  | x  |\n",
    "|**%j** |\tDay of the year as a zero-padded decimal number. | **273** |\n",
    "|**%-j** |\tDay of the year as a decimal number. (Platform specific) | **273** |\n",
    "|**%U** |\tWeek number of the year (Sunday as the first day of the week) as a zero padded decimal number. All days in a new year preceding the first Sunday are considered to be in week 0. | **39** |\n",
    "|**%W** |\tWeek number of the year (Monday as the first day of the week) as a decimal number. All days in a new year preceding the first Monday are considered to be in week 0. | **39** |\n",
    "|**%c** |\tLocale’s appropriate date and time representation. | **Mon Sep 30 07:06:05 2013** |\n",
    "|**%x** |\tLocale’s appropriate date representation. | **09/30/13** |\n",
    "|**%X** |\tLocale’s appropriate time representation. | **07:06:05** |\n",
    "|**%%** |\tA literal '%' character. | **%** |"
   ]
  }
 ],
 "metadata": {
  "kernelspec": {
   "display_name": "Python 3",
   "language": "python",
   "name": "python3"
  },
  "language_info": {
   "codemirror_mode": {
    "name": "ipython",
    "version": 3
   },
   "file_extension": ".py",
   "mimetype": "text/x-python",
   "name": "python",
   "nbconvert_exporter": "python",
   "pygments_lexer": "ipython3",
   "version": "3.7.4"
  }
 },
 "nbformat": 4,
 "nbformat_minor": 2
}
