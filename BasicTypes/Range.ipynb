{
 "cells": [
  {
   "cell_type": "markdown",
   "metadata": {},
   "source": [
    "# Python Reference - Range\n",
    "**Author:** Robert Bantele\n",
    "\n",
    "#### Definition\n",
    "the range function creates a very memory-efficient range object that can be iterated over\n",
    "\n",
    "##### Links\n",
    "https://www.w3schools.com/python/ref_func_range.asp"
   ]
  },
  {
   "cell_type": "markdown",
   "metadata": {},
   "source": [
    "### ctor\n",
    "single parameter ctor goes from 0 to the passed number in steps of 1"
   ]
  },
  {
   "cell_type": "code",
   "execution_count": 4,
   "metadata": {},
   "outputs": [
    {
     "name": "stdout",
     "output_type": "stream",
     "text": [
      "range(10): range(0, 10)\n",
      "type(range(10)): <class 'range'>\n"
     ]
    }
   ],
   "source": [
    "print(\"range(10): \" + str(range(10)))\n",
    "print(\"type(range(10)): \" + str(type(range(10))))"
   ]
  },
  {
   "cell_type": "markdown",
   "metadata": {},
   "source": [
    "two parameter ctor goes from first parameter to second parameter in steps of 1"
   ]
  },
  {
   "cell_type": "code",
   "execution_count": 5,
   "metadata": {},
   "outputs": [
    {
     "name": "stdout",
     "output_type": "stream",
     "text": [
      "range(2, 10): range(2, 10)\n"
     ]
    }
   ],
   "source": [
    "print(\"range(2, 10): \" + str(range(2, 10)))"
   ]
  },
  {
   "cell_type": "markdown",
   "metadata": {},
   "source": [
    "three parameter ctor goes from first parameter to second parameter in steps of the third parameter"
   ]
  },
  {
   "cell_type": "code",
   "execution_count": 6,
   "metadata": {},
   "outputs": [
    {
     "name": "stdout",
     "output_type": "stream",
     "text": [
      "range(2, 10, 2): range(2, 10, 2)\n"
     ]
    }
   ],
   "source": [
    "print(\"range(2, 10, 2): \" + str(range(2, 10, 2)))"
   ]
  },
  {
   "cell_type": "code",
   "execution_count": null,
   "metadata": {},
   "outputs": [],
   "source": []
  }
 ],
 "metadata": {
  "kernelspec": {
   "display_name": "Python 3",
   "language": "python",
   "name": "python3"
  },
  "language_info": {
   "codemirror_mode": {
    "name": "ipython",
    "version": 3
   },
   "file_extension": ".py",
   "mimetype": "text/x-python",
   "name": "python",
   "nbconvert_exporter": "python",
   "pygments_lexer": "ipython3",
   "version": "3.7.4"
  }
 },
 "nbformat": 4,
 "nbformat_minor": 2
}
