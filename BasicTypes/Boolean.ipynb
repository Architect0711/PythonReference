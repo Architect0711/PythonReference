{
 "cells": [
  {
   "cell_type": "markdown",
   "metadata": {},
   "source": [
    "# Python Reference - Boolean\n",
    "**Author:** Robert Bantele\n",
    "\n",
    "##### Links\n",
    "https://www.w3schools.com/python/python_booleans.asp"
   ]
  },
  {
   "cell_type": "markdown",
   "metadata": {},
   "source": [
    "### ternary operator\n",
    "the ternary operator is an inline if statement"
   ]
  },
  {
   "cell_type": "code",
   "execution_count": 11,
   "metadata": {},
   "outputs": [
    {
     "name": "stdout",
     "output_type": "stream",
     "text": [
      "TrueValue\n",
      "FalseValue\n"
     ]
    }
   ],
   "source": [
    "print(\"TrueValue\" if True else \"FalseValue\")\n",
    "print(\"TrueValue\" if False else \"FalseValue\")"
   ]
  },
  {
   "cell_type": "markdown",
   "metadata": {},
   "source": [
    "###  boolean operations\n",
    "the boolean operators are 'and', 'or' and 'not'"
   ]
  },
  {
   "cell_type": "code",
   "execution_count": 14,
   "metadata": {},
   "outputs": [
    {
     "name": "stdout",
     "output_type": "stream",
     "text": [
      "False\n",
      "True\n",
      "True\n",
      "True\n"
     ]
    }
   ],
   "source": [
    "print(True and False)\n",
    "print(True and not False)\n",
    "print(True or False)\n",
    "print(not False)"
   ]
  },
  {
   "cell_type": "markdown",
   "metadata": {},
   "source": [
    "###  comparisons\n",
    "comparison operations are supported by all objects. They all have the same priority (which is higher than that of the Boolean operations). comparisons can be chained arbitrarily; for example, x < y <= z\n",
    "\n",
    "* **\\<**          strictly less than\n",
    "* **<=**          less than or equal\n",
    "* **\\>**          strictly greater than\n",
    "* **\\>=**         greater than or equal\n",
    "* **==**          equal\n",
    "* **!=**          not equal\n",
    "* **is**          object identity\n",
    "* **is not**      negated object identity"
   ]
  },
  {
   "cell_type": "code",
   "execution_count": 17,
   "metadata": {},
   "outputs": [
    {
     "name": "stdout",
     "output_type": "stream",
     "text": [
      "3 < 4 <= 4: True\n"
     ]
    }
   ],
   "source": [
    "print(\"3 < 4 <= 4: \" + str(3 < 4 <= 4))"
   ]
  },
  {
   "cell_type": "markdown",
   "metadata": {},
   "source": [
    "### truthy and falsy values\n",
    "any object can be tested for truth value, for use in an if or while\n",
    "condition or as operand of the boolean operations below. thus, the bool() method can convert any object to a boolean value.\n",
    "\n",
    "#### the following values are considered False:"
   ]
  },
  {
   "cell_type": "code",
   "execution_count": 31,
   "metadata": {},
   "outputs": [
    {
     "name": "stdout",
     "output_type": "stream",
     "text": [
      "None: False\n",
      "False: False\n",
      "zero of any numeric type - 0: False\n",
      "zero of any numeric type - 0.0: False\n",
      "zero of any numeric type - 0j: False\n",
      "any empty sequence - \"\": False\n",
      "any empty sequence - ()): False\n",
      "any empty sequence - []: False\n",
      "any empty mapping - {}: False\n"
     ]
    }
   ],
   "source": [
    "print(\"None: \" + str(bool(None)))\n",
    "print(\"False: \" + str(bool(False)))\n",
    "print(\"zero of any numeric type - 0: \" + str(bool(0)))\n",
    "print(\"zero of any numeric type - 0.0: \" + str(bool(0.0)))\n",
    "print(\"zero of any numeric type - 0j: \" + str(bool(0j)))\n",
    "print(\"any empty sequence - \\\"\\\": \" + str(bool(\"\")))\n",
    "print(\"any empty sequence - ()): \" + str(bool(())))\n",
    "print(\"any empty sequence - []: \" + str(bool([])))\n",
    "print(\"any empty mapping - {}: \" + str(bool({})))"
   ]
  },
  {
   "cell_type": "markdown",
   "metadata": {},
   "source": [
    "**all other values are considered True** — so objects of many types are always True.\n",
    "#### the following values are considered True:"
   ]
  },
  {
   "cell_type": "code",
   "execution_count": 33,
   "metadata": {},
   "outputs": [
    {
     "name": "stdout",
     "output_type": "stream",
     "text": [
      "True: True\n",
      "non-zero of any numeric type - 1: True\n",
      "non-zero of any numeric type - 1.0: True\n",
      "non-zero of any numeric type - 1j: True\n",
      "any non-empty sequence - \"abc\": True\n",
      "any non-empty sequence - (0, 0, 0)): True\n",
      "any non-empty sequence - [1, 2]: True\n",
      "any non-empty mapping - {3: 4}: True\n"
     ]
    }
   ],
   "source": [
    "print(\"True: \" + str(bool(True)))\n",
    "print(\"non-zero of any numeric type - 1: \" + str(bool(1)))\n",
    "print(\"non-zero of any numeric type - 1.0: \" + str(bool(1.0)))\n",
    "print(\"non-zero of any numeric type - 1j: \" + str(bool(1j)))\n",
    "print(\"any non-empty sequence - \\\"abc\\\": \" + str(bool(\"abc\")))\n",
    "print(\"any non-empty sequence - (0, 0, 0)): \" + str(bool((0, 0, 0))))\n",
    "print(\"any non-empty sequence - [1, 2]: \" + str(bool([1, 2])))\n",
    "print(\"any non-empty mapping - {3: 4}: \" + str(bool({3: 4})))"
   ]
  },
  {
   "cell_type": "code",
   "execution_count": null,
   "metadata": {},
   "outputs": [],
   "source": []
  }
 ],
 "metadata": {
  "kernelspec": {
   "display_name": "Python 3",
   "language": "python",
   "name": "python3"
  },
  "language_info": {
   "codemirror_mode": {
    "name": "ipython",
    "version": 3
   },
   "file_extension": ".py",
   "mimetype": "text/x-python",
   "name": "python",
   "nbconvert_exporter": "python",
   "pygments_lexer": "ipython3",
   "version": "3.7.4"
  }
 },
 "nbformat": 4,
 "nbformat_minor": 2
}
