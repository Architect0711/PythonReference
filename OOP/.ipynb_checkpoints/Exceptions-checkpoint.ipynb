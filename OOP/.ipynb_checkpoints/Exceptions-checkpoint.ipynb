{
 "cells": [
  {
   "cell_type": "markdown",
   "metadata": {},
   "source": [
    "# Python Reference - Exceptions\n",
    "**Author:** Robert Bantele\n",
    "\n",
    "#### Definition\n",
    "\n",
    "\n",
    "##### Links"
   ]
  },
  {
   "cell_type": "markdown",
   "metadata": {},
   "source": [
    "### syntax: try - except - finally "
   ]
  },
  {
   "cell_type": "code",
   "execution_count": 11,
   "metadata": {},
   "outputs": [
    {
     "name": "stdout",
     "output_type": "stream",
     "text": [
      "Can not divide by zero\n",
      "y = 5e-97\n"
     ]
    }
   ],
   "source": [
    "try:\n",
    "    x: int = 0\n",
    "    y: int = 5/x\n",
    "except ZeroDivisionError as e:\n",
    "    print(\"Can not divide by zero\")\n",
    "except Exception as ex:\n",
    "    print(f\"Exception thrown: {ex}\")\n",
    "finally:\n",
    "    print(f\"y = {y}\")"
   ]
  },
  {
   "cell_type": "markdown",
   "metadata": {},
   "source": [
    "### create your own exception"
   ]
  },
  {
   "cell_type": "code",
   "execution_count": 13,
   "metadata": {},
   "outputs": [
    {
     "name": "stdout",
     "output_type": "stream",
     "text": [
      "Please enter a valid e-mail address => email does not contain an @\n"
     ]
    }
   ],
   "source": [
    "class InvalidEmailError(Exception):\n",
    "    pass\n",
    "\n",
    "def send_mail(email, subject, content):\n",
    "    if not \"@\" in email:\n",
    "        raise InvalidEmailError(\"email does not contain an @\")\n",
    "        \n",
    "try:     \n",
    "    send_mail(\"addr\", \"subj\", \"cont\")\n",
    "except InvalidEmailError as e:\n",
    "    print(f\"Please enter a valid e-mail address => {e}\")"
   ]
  }
 ],
 "metadata": {
  "kernelspec": {
   "display_name": "Python 3",
   "language": "python",
   "name": "python3"
  },
  "language_info": {
   "codemirror_mode": {
    "name": "ipython",
    "version": 3
   },
   "file_extension": ".py",
   "mimetype": "text/x-python",
   "name": "python",
   "nbconvert_exporter": "python",
   "pygments_lexer": "ipython3",
   "version": "3.7.4"
  }
 },
 "nbformat": 4,
 "nbformat_minor": 2
}
