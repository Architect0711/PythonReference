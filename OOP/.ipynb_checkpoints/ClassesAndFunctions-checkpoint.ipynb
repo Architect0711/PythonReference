{
 "cells": [
  {
   "cell_type": "markdown",
   "metadata": {},
   "source": [
    "# Python Reference - Classes and Functions\n",
    "**Author:** Robert Bantele\n",
    "\n",
    "#### Definition\n",
    "the basic building blocks of object oriented programming\n",
    "\n",
    "##### Links\n",
    "https://www.w3schools.com/python/python_classes.asp  \n",
    "https://www.w3schools.com/python/python_functions.asp  \n",
    "https://www.w3schools.com/python/python_scope.asp"
   ]
  },
  {
   "cell_type": "markdown",
   "metadata": {},
   "source": [
    "### ctor definition\n",
    "the ctor is called **\\_\\_init\\_\\_** in python by convention"
   ]
  },
  {
   "cell_type": "code",
   "execution_count": 6,
   "metadata": {},
   "outputs": [],
   "source": [
    "def __init__(self):\n",
    "    super().__init__(\"pass args to parent class\")"
   ]
  },
  {
   "cell_type": "markdown",
   "metadata": {},
   "source": [
    "### function definition\n",
    "use the **def** keyword to define a function. set the default values and datatypes of arguments and return value"
   ]
  },
  {
   "cell_type": "code",
   "execution_count": 17,
   "metadata": {},
   "outputs": [
    {
     "name": "stdout",
     "output_type": "stream",
     "text": [
      "function content is indented\n",
      "1\n",
      "function content is indented\n",
      "2\n",
      "function content is indented\n",
      "<class 'int'>\n"
     ]
    }
   ],
   "source": [
    "def function_name(input: str, input_with_default: int = 1)-> int:\n",
    "    print(\"function content is indented\")\n",
    "    return input_with_default\n",
    "\n",
    "print(function_name(\"\"))\n",
    "print(function_name(\"\",2))\n",
    "print(type(function_name(\"\")))"
   ]
  },
  {
   "cell_type": "markdown",
   "metadata": {},
   "source": [
    "### keyword arguments  \n",
    "use preferred argument order and improve readability by using keyword arguments"
   ]
  },
  {
   "cell_type": "code",
   "execution_count": 3,
   "metadata": {},
   "outputs": [
    {
     "data": {
      "text/plain": [
       "5"
      ]
     },
     "execution_count": 3,
     "metadata": {},
     "output_type": "execute_result"
    }
   ],
   "source": [
    "def increment(number, by):\n",
    "    return number + by\n",
    "\n",
    "increment(by=2, number=3)"
   ]
  },
  {
   "cell_type": "markdown",
   "metadata": {},
   "source": [
    "### void\n",
    "functions return \"void\" automatically, but it can be defined specifically using **pass**"
   ]
  },
  {
   "cell_type": "code",
   "execution_count": 5,
   "metadata": {},
   "outputs": [],
   "source": [
    "def nothing():\n",
    "    pass\n",
    "\n",
    "nothing()"
   ]
  },
  {
   "cell_type": "markdown",
   "metadata": {},
   "source": [
    "### varying number of arguments\n",
    "python packages function args as a tuple with  **\\***"
   ]
  },
  {
   "cell_type": "code",
   "execution_count": 3,
   "metadata": {},
   "outputs": [
    {
     "data": {
      "text/plain": [
       "6"
      ]
     },
     "execution_count": 3,
     "metadata": {},
     "output_type": "execute_result"
    }
   ],
   "source": [
    "def multiply_tuple(*numbers):\n",
    "    total = 1\n",
    "    for number in numbers:\n",
    "        total *= number\n",
    "    return total\n",
    "\n",
    "multiply_tuple(1, 2, 3)"
   ]
  },
  {
   "cell_type": "markdown",
   "metadata": {},
   "source": [
    "### varying number of keyword arguments  \n",
    "python packages function args as a dictionary with **\\*\\***"
   ]
  },
  {
   "cell_type": "code",
   "execution_count": 8,
   "metadata": {},
   "outputs": [
    {
     "name": "stdout",
     "output_type": "stream",
     "text": [
      "type: <class 'dict'>\n",
      "kvp: {'id': 1, 'name': 'admin'}\n",
      "key: 1\n",
      "val: admin\n"
     ]
    }
   ],
   "source": [
    "def save_user(**user):\n",
    "    return user\n",
    "\n",
    "\n",
    "print(\"type: \" + str(type(save_user(id=1, name=\"admin\"))))\n",
    "print(\"kvp: \" + str(save_user(id=1, name=\"admin\")))\n",
    "print(\"key: \" + str(save_user(id=1, name=\"admin\")[\"id\"]))\n",
    "print(\"val: \" + str(save_user(id=1, name=\"admin\")[\"name\"]))"
   ]
  },
  {
   "cell_type": "markdown",
   "metadata": {},
   "source": [
    "### scope\n",
    "scoped variables are accessible outside of the scope they were defined in"
   ]
  },
  {
   "cell_type": "code",
   "execution_count": 9,
   "metadata": {},
   "outputs": [
    {
     "name": "stdout",
     "output_type": "stream",
     "text": [
      "str(greet(True)): true\n",
      "str(greet(False)) will result in an \"UnboundLocalError: local variable 'message' referenced before assignment\"\n"
     ]
    }
   ],
   "source": [
    "def greet(set_message: bool):\n",
    "    if set_message:\n",
    "        message = \"true\"\n",
    "    return message\n",
    "\n",
    "\n",
    "print(\"str(greet(True)): \" + str(greet(True)))\n",
    "print(\"str(greet(False)) will result in an \\\"UnboundLocalError: local variable 'message' referenced before assignment\\\"\")"
   ]
  },
  {
   "cell_type": "markdown",
   "metadata": {},
   "source": [
    "### global variables  \n",
    "global variables are not modified by statements in functions -> use the **global** keyword"
   ]
  },
  {
   "cell_type": "code",
   "execution_count": 13,
   "metadata": {},
   "outputs": [
    {
     "name": "stdout",
     "output_type": "stream",
     "text": [
      "b\n",
      "a\n",
      "c\n",
      "c\n"
     ]
    }
   ],
   "source": [
    "message = \"a\"\n",
    "\n",
    "\n",
    "def greet_local():\n",
    "    message = \"b\"\n",
    "    return message\n",
    "\n",
    "\n",
    "def greet_global():\n",
    "    global message\n",
    "    message = \"c\"\n",
    "    return message\n",
    "\n",
    "print(greet_local())\n",
    "print(message)\n",
    "print(greet_global())\n",
    "print(message)"
   ]
  },
  {
   "cell_type": "markdown",
   "metadata": {},
   "source": [
    "### static variables"
   ]
  },
  {
   "cell_type": "code",
   "execution_count": 28,
   "metadata": {},
   "outputs": [
    {
     "name": "stdout",
     "output_type": "stream",
     "text": [
      "Daimler\n",
      "VW\n"
     ]
    }
   ],
   "source": [
    "class Car:\n",
    "    brand = \"Daimler\"\n",
    "    \n",
    "print(Car.brand)   \n",
    "Car.brand = \"VW\"\n",
    "print(Car.brand) "
   ]
  },
  {
   "cell_type": "markdown",
   "metadata": {},
   "source": [
    "### FizzBuzz\n",
    "Python implementation of the FizzBuzz algorithm"
   ]
  },
  {
   "cell_type": "code",
   "execution_count": 1,
   "metadata": {},
   "outputs": [
    {
     "name": "stdout",
     "output_type": "stream",
     "text": [
      "FizzBuzz\n",
      "1\n",
      "2\n",
      "Fizz\n",
      "4\n",
      "Buzz\n",
      "Fizz\n",
      "7\n",
      "8\n",
      "Fizz\n",
      "Buzz\n",
      "11\n",
      "Fizz\n",
      "13\n",
      "14\n",
      "FizzBuzz\n"
     ]
    }
   ],
   "source": [
    "def fizz_buzz(input):\n",
    "    if input % 3 == 0:\n",
    "        if input % 5 == 0:\n",
    "            return \"FizzBuzz\"\n",
    "        return \"Fizz\"\n",
    "    if input % 5 == 0:\n",
    "        return \"Buzz\"\n",
    "    return str(input)\n",
    "\n",
    "print(fizz_buzz(0))\n",
    "print(fizz_buzz(1))\n",
    "print(fizz_buzz(2))\n",
    "print(fizz_buzz(3))\n",
    "print(fizz_buzz(4))\n",
    "print(fizz_buzz(5))\n",
    "print(fizz_buzz(6))\n",
    "print(fizz_buzz(7))\n",
    "print(fizz_buzz(8))\n",
    "print(fizz_buzz(9))\n",
    "print(fizz_buzz(10))\n",
    "print(fizz_buzz(11))\n",
    "print(fizz_buzz(12))\n",
    "print(fizz_buzz(13))\n",
    "print(fizz_buzz(14))\n",
    "print(fizz_buzz(15))"
   ]
  },
  {
   "cell_type": "markdown",
   "metadata": {},
   "source": [
    "### special functions\n",
    "objects have a number of special functions that can be overriden"
   ]
  },
  {
   "cell_type": "code",
   "execution_count": 23,
   "metadata": {},
   "outputs": [],
   "source": [
    "class River():\n",
    "    \n",
    "    name: str\n",
    "    length: int\n",
    "    \n",
    "    def __init__(self, name: str, length: int):\n",
    "        self.name = name\n",
    "        self.length = length\n",
    "        \n",
    "    def __str__(self):\n",
    "        return f\"River (Name = {self.name})\"\n",
    "    \n",
    "    def __repr__(self):\n",
    "        return f\"Repr River (Name = {self.name})\"\n",
    "    \n",
    "    def __len__(self):\n",
    "        return self.length\n",
    "    \n",
    "neckar = River(\"Neckar\", 1234)"
   ]
  },
  {
   "cell_type": "markdown",
   "metadata": {},
   "source": [
    "the python **tostring** method is called **\\_\\_str\\_\\_**. "
   ]
  },
  {
   "cell_type": "code",
   "execution_count": 24,
   "metadata": {},
   "outputs": [
    {
     "name": "stdout",
     "output_type": "stream",
     "text": [
      "River (Name = Neckar)\n"
     ]
    }
   ],
   "source": [
    "print(neckar)"
   ]
  },
  {
   "cell_type": "markdown",
   "metadata": {},
   "source": [
    "calling an object without **str(obj)** or **print(obj)** will call the **\\_\\_repr\\_\\_** method"
   ]
  },
  {
   "cell_type": "code",
   "execution_count": 25,
   "metadata": {},
   "outputs": [
    {
     "data": {
      "text/plain": [
       "Repr River (Name = Neckar)"
      ]
     },
     "execution_count": 25,
     "metadata": {},
     "output_type": "execute_result"
    }
   ],
   "source": []
  },
  {
   "cell_type": "markdown",
   "metadata": {},
   "source": [
    "the python **count** method is called **\\_\\_len\\_\\_**"
   ]
  },
  {
   "cell_type": "code",
   "execution_count": 26,
   "metadata": {},
   "outputs": [
    {
     "name": "stdout",
     "output_type": "stream",
     "text": [
      "1234\n"
     ]
    }
   ],
   "source": [
    "print(len(neckar)) "
   ]
  },
  {
   "cell_type": "markdown",
   "metadata": {},
   "source": [
    "### variable function parameters\n",
    "use **\\*args** to pass a variable number of arguments to a function as a tuple"
   ]
  },
  {
   "cell_type": "code",
   "execution_count": 36,
   "metadata": {},
   "outputs": [
    {
     "name": "stdout",
     "output_type": "stream",
     "text": [
      "<class 'tuple'>\n",
      "6\n",
      "<class 'int'>\n"
     ]
    }
   ],
   "source": [
    "def multiply(*args):\n",
    "    print(type(args))\n",
    "    result = 1\n",
    "    for arg in args:\n",
    "        result = result * arg\n",
    "    return result\n",
    "\n",
    "product = multiply(1, 2, 3)\n",
    "\n",
    "print(product)\n",
    "print(type(product))"
   ]
  },
  {
   "cell_type": "markdown",
   "metadata": {},
   "source": [
    "use **\\*\\*args** to pass a variable number of arguments to a function as a dictionary"
   ]
  },
  {
   "cell_type": "code",
   "execution_count": 50,
   "metadata": {},
   "outputs": [
    {
     "name": "stdout",
     "output_type": "stream",
     "text": [
      "{'color': 'r', 'linewidth': 10, 'linestyle': 'dashed'}\n"
     ]
    },
    {
     "data": {
      "image/png": "[encoded data removed]",
      "text/plain": [
       "<Figure size 432x288 with 1 Axes>"
      ]
     },
     "metadata": {
      "needs_background": "light"
     },
     "output_type": "display_data"
    }
   ],
   "source": [
    "%matplotlib inline\n",
    "import matplotlib.pyplot as plt\n",
    "\n",
    "def create_plot(**plot_params):\n",
    "    print(plot_params)\n",
    "    \n",
    "    plt.plot([1, 2, 3], [5, 6, 5], **plot_params)\n",
    "    plt.show()\n",
    "    \n",
    "create_plot(color=\"r\", linewidth=10, linestyle=\"dashed\")\n",
    "# create_plot(color=\"r\", linewidth=10, linestyle=\"dashed\", notcontainedparam=\"asd\") # <- will throw an error"
   ]
  },
  {
   "cell_type": "code",
   "execution_count": null,
   "metadata": {},
   "outputs": [],
   "source": []
  }
 ],
 "metadata": {
  "kernelspec": {
   "display_name": "Python 3",
   "language": "python",
   "name": "python3"
  },
  "language_info": {
   "codemirror_mode": {
    "name": "ipython",
    "version": 3
   },
   "file_extension": ".py",
   "mimetype": "text/x-python",
   "name": "python",
   "nbconvert_exporter": "python",
   "pygments_lexer": "ipython3",
   "version": "3.7.4"
  }
 },
 "nbformat": 4,
 "nbformat_minor": 2
}
