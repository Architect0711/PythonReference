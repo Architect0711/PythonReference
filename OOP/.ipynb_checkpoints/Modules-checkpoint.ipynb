{
 "cells": [
  {
   "cell_type": "markdown",
   "metadata": {},
   "source": [
    "# Python Reference - Modules\n",
    "**Author:** Robert Bantele\n",
    "\n",
    "#### Definition\n",
    "libraries\n",
    "\n",
    "##### Links\n",
    "https://docs.python.org/3/py-modindex.html"
   ]
  },
  {
   "cell_type": "markdown",
   "metadata": {},
   "source": [
    "### import module\n",
    "imports the entire module"
   ]
  },
  {
   "cell_type": "code",
   "execution_count": null,
   "metadata": {},
   "outputs": [],
   "source": [
    "import my_module\n",
    "print(my_module)"
   ]
  },
  {
   "cell_type": "code",
   "execution_count": null,
   "metadata": {},
   "outputs": [],
   "source": [
    "%matplotlib inline\n",
    "import matplotlib.pyplot\n",
    "\n",
    "matplotlib.pyplot.plot([1, 2, 3], [5, 4, 5])\n",
    "matplotlib.pyplot.show()"
   ]
  },
  {
   "cell_type": "markdown",
   "metadata": {},
   "source": [
    "### from module import class/method"
   ]
  },
  {
   "cell_type": "code",
   "execution_count": null,
   "metadata": {},
   "outputs": [],
   "source": [
    "from my_module import method_1, method_2\n",
    "method_1()\n",
    "method_2()"
   ]
  },
  {
   "cell_type": "code",
   "execution_count": null,
   "metadata": {},
   "outputs": [],
   "source": [
    "from matplotlib import pyplot\n",
    "\n",
    "pyplot.plot([1, 2, 3], [5, 4, 5])\n",
    "pyplot.show()"
   ]
  },
  {
   "cell_type": "markdown",
   "metadata": {},
   "source": [
    "### as"
   ]
  },
  {
   "cell_type": "code",
   "execution_count": null,
   "metadata": {},
   "outputs": [],
   "source": [
    "%matplotlib inline\n",
    "import matplotlib.pyplot as plt\n",
    "\n",
    "plt.plot([1, 2, 3], [5, 4, 5])\n",
    "plt.show()"
   ]
  },
  {
   "cell_type": "markdown",
   "metadata": {},
   "source": [
    "### module folder\n",
    "to define a module with multiple python files, create a folder with the name of the module and put a **\\_\\_init\\_\\_.py** file inside"
   ]
  },
  {
   "cell_type": "code",
   "execution_count": 1,
   "metadata": {},
   "outputs": [
    {
     "name": "stdout",
     "output_type": "stream",
     "text": [
      "my_submodule_1 does something\n"
     ]
    }
   ],
   "source": [
    "from my_module_folder import my_submodule_1\n",
    "\n",
    "mod = my_submodule_1()\n",
    "mod.do_something()"
   ]
  },
  {
   "cell_type": "markdown",
   "metadata": {},
   "source": [
    "in the **\\_\\_init\\_\\_.py** define the variable  **\\_\\_all\\_\\_ = \\[ \\\"my_submodule_1\\\" \\]** as a list of strings of filenames in that folder to determine all modules to be loaded with * syntax"
   ]
  },
  {
   "cell_type": "code",
   "execution_count": 3,
   "metadata": {},
   "outputs": [
    {
     "name": "stdout",
     "output_type": "stream",
     "text": [
      "my_submodule_1 does something\n"
     ]
    }
   ],
   "source": [
    "from my_module_folder import *\n",
    "\n",
    "mod = my_submodule_1()\n",
    "mod.do_something()"
   ]
  },
  {
   "cell_type": "markdown",
   "metadata": {},
   "source": [
    "in the **\\_\\_init\\_\\_.py** define import statements e.g. **from .my_submodule_1 import my_submodule_1** for all submodules to be loaded if the entire module is loaded"
   ]
  },
  {
   "cell_type": "code",
   "execution_count": 4,
   "metadata": {},
   "outputs": [
    {
     "name": "stdout",
     "output_type": "stream",
     "text": [
      "my_submodule_1 does something\n"
     ]
    }
   ],
   "source": [
    "import my_module_folder\n",
    "\n",
    "mod = my_module_folder.my_submodule_1()\n",
    "mod.do_something()"
   ]
  },
  {
   "cell_type": "code",
   "execution_count": null,
   "metadata": {},
   "outputs": [],
   "source": []
  }
 ],
 "metadata": {
  "kernelspec": {
   "display_name": "Python 3",
   "language": "python",
   "name": "python3"
  },
  "language_info": {
   "codemirror_mode": {
    "name": "ipython",
    "version": 3
   },
   "file_extension": ".py",
   "mimetype": "text/x-python",
   "name": "python",
   "nbconvert_exporter": "python",
   "pygments_lexer": "ipython3",
   "version": "3.7.4"
  }
 },
 "nbformat": 4,
 "nbformat_minor": 2
}
