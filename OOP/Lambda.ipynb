{
 "cells": [
  {
   "cell_type": "markdown",
   "metadata": {},
   "source": [
    "# Python Reference - Lambda\n",
    "**Author:** Robert Bantele\n",
    "\n",
    "#### Definition\n",
    "inline method declaration\n",
    "\n",
    "##### Links\n",
    "https://www.python-kurs.eu/lambda.php  \n",
    "https://www.w3schools.com/python/python_lambda.asp"
   ]
  },
  {
   "cell_type": "markdown",
   "metadata": {},
   "source": [
    "### basic syntax  \n",
    "**lambda** arg: perform_logic(arg)"
   ]
  },
  {
   "cell_type": "markdown",
   "metadata": {},
   "source": [
    "### lambda as validator"
   ]
  },
  {
   "cell_type": "code",
   "execution_count": 10,
   "metadata": {},
   "outputs": [
    {
     "name": "stdout",
     "output_type": "stream",
     "text": [
      "<function <lambda> at 0x0000026077EA3708>\n",
      "True\n",
      "False\n"
     ]
    }
   ],
   "source": [
    "only_http_urls_validator=lambda url: not url.startswith(\"https://\")\n",
    "print(only_http_urls_validator)\n",
    "print(only_http_urls_validator(\"http://\"))\n",
    "print(only_http_urls_validator(\"https://\"))"
   ]
  },
  {
   "cell_type": "markdown",
   "metadata": {},
   "source": [
    "### lambda as null check"
   ]
  },
  {
   "cell_type": "code",
   "execution_count": 8,
   "metadata": {},
   "outputs": [
    {
     "name": "stdout",
     "output_type": "stream",
     "text": [
      "<function <lambda> at 0x0000026077EA3828>\n",
      "False\n",
      "True\n"
     ]
    }
   ],
   "source": [
    "not_None_validator=lambda el: bool(el)\n",
    "print(not_None_validator)\n",
    "print(not_None_validator(None))\n",
    "print(not_None_validator(\"Hello World\"))"
   ]
  },
  {
   "cell_type": "markdown",
   "metadata": {},
   "source": [
    "### lambda as a sort argument"
   ]
  },
  {
   "cell_type": "code",
   "execution_count": 9,
   "metadata": {},
   "outputs": [
    {
     "name": "stdout",
     "output_type": "stream",
     "text": [
      "[('Alex', 18), ('Sven', 19), ('Tobi', 21), ('Stefanie', 22)]\n"
     ]
    }
   ],
   "source": [
    "friends = [\n",
    "    (\"Sven\", 19),\n",
    "    (\"Stefanie\", 22),\n",
    "    (\"Tobi\", 21),\n",
    "    (\"Alex\", 18)\n",
    "]\n",
    "\n",
    "friends.sort(key=lambda friend: friend[1])\n",
    "print(friends)"
   ]
  }
 ],
 "metadata": {
  "kernelspec": {
   "display_name": "Python 3",
   "language": "python",
   "name": "python3"
  },
  "language_info": {
   "codemirror_mode": {
    "name": "ipython",
    "version": 3
   },
   "file_extension": ".py",
   "mimetype": "text/x-python",
   "name": "python",
   "nbconvert_exporter": "python",
   "pygments_lexer": "ipython3",
   "version": "3.7.4"
  }
 },
 "nbformat": 4,
 "nbformat_minor": 2
}
