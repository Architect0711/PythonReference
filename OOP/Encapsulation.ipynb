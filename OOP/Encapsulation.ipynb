{
 "cells": [
  {
   "cell_type": "markdown",
   "metadata": {},
   "source": [
    "# Python Reference - Encapsulation\n",
    "**Author:** Robert Bantele\n",
    "\n",
    "#### Definition\n",
    "one of the three pillars of object oriented programming\n",
    "\n",
    "##### Links\n",
    "https://pythonspot.com/encapsulation/  \n",
    "https://pythonprogramminglanguage.com/encapsulation/  \n",
    "https://medium.com/@manjuladube/encapsulation-abstraction-35999b0a3911"
   ]
  },
  {
   "cell_type": "markdown",
   "metadata": {},
   "source": [
    "### protected and private\n",
    "**protected** members should only be accessed in derived classes. just follow the convention by prefixing the name of the member by a single underscore **“_”**  \n",
    "**private** members should only be accessed in the class itself, just follow the convention by prefixing the name of the member by double underscores **“__”**"
   ]
  },
  {
   "cell_type": "code",
   "execution_count": 5,
   "metadata": {},
   "outputs": [],
   "source": [
    "class Car():\n",
    "\n",
    "    __maxspeed = 0\n",
    "\n",
    "    def __init__(self, maxspeed):\n",
    "        self.__maxspeed = maxspeed\n",
    "        self.__updateSoftware()\n",
    "\n",
    "    def drive(self):\n",
    "        print(\"driving with maxspeed \" + str(self.__maxspeed))\n",
    "\n",
    "    def __updateSoftware(self):\n",
    "        print(\"updating software\")\n"
   ]
  },
  {
   "cell_type": "markdown",
   "metadata": {},
   "source": [
    "##### however...\n",
    "that is only a naming convention. **protected** members can be accessed from anywhere. **private** members can be accessed by prefixing the name of a private member with an underscore **\"_\"** and the name of the containing class to access it"
   ]
  },
  {
   "cell_type": "code",
   "execution_count": 4,
   "metadata": {},
   "outputs": [
    {
     "name": "stdout",
     "output_type": "stream",
     "text": [
      "updating software\n",
      "driving with maxspeed 200\n",
      "updating software\n",
      "driving with maxspeed 130\n"
     ]
    }
   ],
   "source": [
    "redcar = Car(200)\n",
    "redcar.drive()\n",
    "# redcar.__maxspeed = 130       # will throw an error\n",
    "redcar._Car__maxspeed = 130     # access the private variable like this\n",
    "# redcar.__updateSoftware()     # will throw an error\n",
    "redcar._Car__updateSoftware()   # access the private function like this\n",
    "redcar.drive()"
   ]
  },
  {
   "cell_type": "code",
   "execution_count": null,
   "metadata": {},
   "outputs": [],
   "source": []
  }
 ],
 "metadata": {
  "kernelspec": {
   "display_name": "Python 3",
   "language": "python",
   "name": "python3"
  },
  "language_info": {
   "codemirror_mode": {
    "name": "ipython",
    "version": 3
   },
   "file_extension": ".py",
   "mimetype": "text/x-python",
   "name": "python",
   "nbconvert_exporter": "python",
   "pygments_lexer": "ipython3",
   "version": "3.7.4"
  }
 },
 "nbformat": 4,
 "nbformat_minor": 2
}
