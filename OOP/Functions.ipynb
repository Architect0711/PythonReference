{
 "cells": [
  {
   "cell_type": "markdown",
   "metadata": {},
   "source": [
    "# Python Reference - Functions\n",
    "**Author:** Robert Bantele\n",
    "\n",
    "#### Definition\n",
    "bla\n",
    "\n",
    "##### Links\n",
    "https://www.w3schools.com/python/python_functions.asp"
   ]
  },
  {
   "cell_type": "markdown",
   "metadata": {},
   "source": [
    "### FizzBuzz\n",
    "Python implementation of the FizzBuzz algorithm"
   ]
  },
  {
   "cell_type": "code",
   "execution_count": 1,
   "metadata": {},
   "outputs": [
    {
     "name": "stdout",
     "output_type": "stream",
     "text": [
      "FizzBuzz\n",
      "1\n",
      "2\n",
      "Fizz\n",
      "4\n",
      "Buzz\n",
      "Fizz\n",
      "7\n",
      "8\n",
      "Fizz\n",
      "Buzz\n",
      "11\n",
      "Fizz\n",
      "13\n",
      "14\n",
      "FizzBuzz\n"
     ]
    }
   ],
   "source": [
    "def fizz_buzz(input):\n",
    "    if input % 3 == 0:\n",
    "        if input % 5 == 0:\n",
    "            return \"FizzBuzz\"\n",
    "        return \"Fizz\"\n",
    "    if input % 5 == 0:\n",
    "        return \"Buzz\"\n",
    "    return str(input)\n",
    "\n",
    "print(fizz_buzz(0))\n",
    "print(fizz_buzz(1))\n",
    "print(fizz_buzz(2))\n",
    "print(fizz_buzz(3))\n",
    "print(fizz_buzz(4))\n",
    "print(fizz_buzz(5))\n",
    "print(fizz_buzz(6))\n",
    "print(fizz_buzz(7))\n",
    "print(fizz_buzz(8))\n",
    "print(fizz_buzz(9))\n",
    "print(fizz_buzz(10))\n",
    "print(fizz_buzz(11))\n",
    "print(fizz_buzz(12))\n",
    "print(fizz_buzz(13))\n",
    "print(fizz_buzz(14))\n",
    "print(fizz_buzz(15))"
   ]
  }
 ],
 "metadata": {
  "kernelspec": {
   "display_name": "Python 3",
   "language": "python",
   "name": "python3"
  },
  "language_info": {
   "codemirror_mode": {
    "name": "ipython",
    "version": 3
   },
   "file_extension": ".py",
   "mimetype": "text/x-python",
   "name": "python",
   "nbconvert_exporter": "python",
   "pygments_lexer": "ipython3",
   "version": "3.7.4"
  }
 },
 "nbformat": 4,
 "nbformat_minor": 2
}
