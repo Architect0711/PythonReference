{
 "cells": [
  {
   "cell_type": "markdown",
   "metadata": {},
   "source": [
    "# Python Reference - Polymorphism\n",
    "**Author:** Robert Bantele\n",
    "\n",
    "#### Definition\n",
    "one of the three pillars of object oriented programming\n",
    "\n",
    "##### Links\n",
    "https://docs.python.org/3/library/abc.html"
   ]
  },
  {
   "cell_type": "markdown",
   "metadata": {},
   "source": [
    "### abstraction and dependency injection\n",
    "there are no interfaces in python, but the same result can be obtained using abstract base classes and abstract methods"
   ]
  },
  {
   "cell_type": "code",
   "execution_count": 6,
   "metadata": {},
   "outputs": [
    {
     "name": "stdout",
     "output_type": "stream",
     "text": [
      "notify(receiver=\"some_person\", subject=\"do_work() was called\", message=\"I am doing some work now\")\n"
     ]
    }
   ],
   "source": [
    "from abc import ABC, abstractmethod\n",
    "\n",
    "\n",
    "class NotificationService(ABC):\n",
    "    receiver: str\n",
    "\n",
    "    def __init__(self, receiver: str):\n",
    "        self.receiver = receiver\n",
    "\n",
    "    @abstractmethod\n",
    "    def notify(self, subject: str, message: str):\n",
    "        pass"
   ]
  },
  {
   "cell_type": "markdown",
   "metadata": {},
   "source": [
    "this is what an implementation of that **NotificationService** could look like:"
   ]
  },
  {
   "cell_type": "code",
   "execution_count": 8,
   "metadata": {},
   "outputs": [],
   "source": [
    "class PrintNotificationService(NotificationService, ABC):\n",
    "\n",
    "    def __init__(self, receiver: str):\n",
    "        super().__init__(receiver)\n",
    "\n",
    "    def notify(self, subject: str, message: str):\n",
    "        print(f\"notify(receiver=\\\"{self.receiver}\\\", subject=\\\"{subject}\\\", message=\\\"{message}\\\")\")"
   ]
  },
  {
   "cell_type": "markdown",
   "metadata": {},
   "source": [
    "now some class can have a dependency on the abstraction **NotificationService** ..."
   ]
  },
  {
   "cell_type": "code",
   "execution_count": 11,
   "metadata": {},
   "outputs": [],
   "source": [
    "class SomeClass:\n",
    "    \n",
    "    notification_service: NotificationService\n",
    "        \n",
    "    def __init__(self, notification_service: NotificationService):\n",
    "        self.notification_service = notification_service\n",
    "        \n",
    "    def do_work(self):\n",
    "        notification_service.notify(\"do_work() was called\", \"I am doing some work now\")"
   ]
  },
  {
   "cell_type": "markdown",
   "metadata": {},
   "source": [
    "... and we provide the concrete implementation using dependency injection"
   ]
  },
  {
   "cell_type": "code",
   "execution_count": 13,
   "metadata": {},
   "outputs": [
    {
     "name": "stdout",
     "output_type": "stream",
     "text": [
      "notify(receiver=\"some_person\", subject=\"do_work() was called\", message=\"I am doing some work now\")\n"
     ]
    }
   ],
   "source": [
    "notification_service = PrintNotificationService(\"some_person\")\n",
    "some_class = SomeClass(notification_service)                    # constructor injection\n",
    "some_class.do_work()"
   ]
  },
  {
   "cell_type": "code",
   "execution_count": null,
   "metadata": {},
   "outputs": [],
   "source": []
  }
 ],
 "metadata": {
  "kernelspec": {
   "display_name": "Python 3",
   "language": "python",
   "name": "python3"
  },
  "language_info": {
   "codemirror_mode": {
    "name": "ipython",
    "version": 3
   },
   "file_extension": ".py",
   "mimetype": "text/x-python",
   "name": "python",
   "nbconvert_exporter": "python",
   "pygments_lexer": "ipython3",
   "version": "3.7.4"
  }
 },
 "nbformat": 4,
 "nbformat_minor": 2
}
