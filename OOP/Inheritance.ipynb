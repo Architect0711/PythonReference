{
 "cells": [
  {
   "cell_type": "markdown",
   "metadata": {},
   "source": [
    "# Python Reference - Inheritance\n",
    "**Author:** Robert Bantele\n",
    "\n",
    "#### Definition\n",
    "one of the three pillars of object oriented programming\n",
    "\n",
    "##### Links\n",
    "https://www.w3schools.com/python/python_inheritance.asp"
   ]
  },
  {
   "cell_type": "markdown",
   "metadata": {},
   "source": [
    "### syntax\n",
    "to inherit from another class, simply import the class and put the class name of the parent class in parentheses behind the class name.  \n",
    "access the constructor of the parent class with **super().\\_\\_init\\_\\_(args...)**"
   ]
  },
  {
   "cell_type": "code",
   "execution_count": 2,
   "metadata": {},
   "outputs": [
    {
     "name": "stdout",
     "output_type": "stream",
     "text": [
      "Dog\n",
      "Male\n",
      "Human\n",
      "Male\n",
      "Hans\n"
     ]
    }
   ],
   "source": [
    "#----------------------------------------------------------------\n",
    "class Lifeform:\n",
    "    type: str\n",
    "    gender: str\n",
    "\n",
    "    def __init__(self, _type: str, _gender: str):\n",
    "        self.type = _type\n",
    "        self.gender = _gender\n",
    "        \n",
    "#----------------------------------------------------------------\n",
    "# from ???.Lifeform import Lifeform <-- DO NOT FORGET TO IMPORT THE PARENT CLASS\n",
    "\n",
    "class Human(Lifeform):\n",
    "\n",
    "    name: str\n",
    "\n",
    "    def __init__(self, _gender: str, _name: str):\n",
    "        self.name = _name\n",
    "        super().__init__(\n",
    "            \"Human\",\n",
    "            _gender)\n",
    "\n",
    "L = Lifeform(\"Dog\", \"Male\")\n",
    "H = Human(\"Male\", \"Hans\")\n",
    "\n",
    "print(L.type)\n",
    "print(L.gender)\n",
    "\n",
    "print(H.type)\n",
    "print(H.gender)\n",
    "print(H.name)\n"
   ]
  },
  {
   "cell_type": "markdown",
   "metadata": {},
   "source": [
    "### typeof\n",
    "the python **typeof** method is **type(obj)**"
   ]
  },
  {
   "cell_type": "code",
   "execution_count": 3,
   "metadata": {},
   "outputs": [
    {
     "name": "stdout",
     "output_type": "stream",
     "text": [
      "<class '__main__.Lifeform'>\n",
      "<class '__main__.Human'>\n"
     ]
    }
   ],
   "source": [
    "print(type(L))\n",
    "print(type(H))"
   ]
  },
  {
   "cell_type": "markdown",
   "metadata": {},
   "source": [
    "### is\n",
    "the python **is** operator is **isinstance(obj, type)**"
   ]
  },
  {
   "cell_type": "code",
   "execution_count": 4,
   "metadata": {},
   "outputs": [
    {
     "name": "stdout",
     "output_type": "stream",
     "text": [
      "True\n",
      "False\n",
      "True\n",
      "True\n"
     ]
    }
   ],
   "source": [
    "print(isinstance(L, Lifeform))\n",
    "print(isinstance(L, Human))\n",
    "print(isinstance(H, Lifeform))\n",
    "print(isinstance(H, Human))"
   ]
  },
  {
   "cell_type": "code",
   "execution_count": null,
   "metadata": {},
   "outputs": [],
   "source": []
  }
 ],
 "metadata": {
  "kernelspec": {
   "display_name": "Python 3",
   "language": "python",
   "name": "python3"
  },
  "language_info": {
   "codemirror_mode": {
    "name": "ipython",
    "version": 3
   },
   "file_extension": ".py",
   "mimetype": "text/x-python",
   "name": "python",
   "nbconvert_exporter": "python",
   "pygments_lexer": "ipython3",
   "version": "3.7.4"
  }
 },
 "nbformat": 4,
 "nbformat_minor": 2
}
