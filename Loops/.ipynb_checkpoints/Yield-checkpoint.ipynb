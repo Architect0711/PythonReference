{
 "cells": [
  {
   "cell_type": "markdown",
   "metadata": {},
   "source": [
    "# Python Reference - Yield\n",
    "**Author:** Robert Bantele\n",
    "\n",
    "#### Definition\n",
    "using generators to return values\n",
    "\n",
    "##### Links\n",
    "https://www.w3schools.com/python/python_inheritance.asp"
   ]
  },
  {
   "cell_type": "markdown",
   "metadata": {},
   "source": [
    "### generator\n",
    "the **yield** keyword allows you to loop over a collection and generate each value just as it is required by the next iteration"
   ]
  },
  {
   "cell_type": "code",
   "execution_count": 3,
   "metadata": {},
   "outputs": [
    {
     "name": "stdout",
     "output_type": "stream",
     "text": [
      "added: 0\n",
      "added: 1\n",
      "added: 2\n",
      "added: 3\n",
      "added: 4\n",
      "added: 5\n",
      "added: 6\n",
      "added: 7\n",
      "added: 8\n",
      "added: 9\n",
      "printed: 0\n",
      "printed: 1\n",
      "printed: 2\n",
      "printed: 3\n",
      "printed: 4\n",
      "printed: 5\n",
      "printed: 6\n",
      "printed: 7\n",
      "printed: 8\n",
      "printed: 9\n",
      "added: 0\n",
      "printed: 0\n",
      "added: 1\n",
      "printed: 1\n",
      "added: 2\n",
      "printed: 2\n",
      "added: 3\n",
      "printed: 3\n",
      "added: 4\n",
      "printed: 4\n"
     ]
    }
   ],
   "source": [
    "def get_list():\n",
    "    list = []\n",
    "    for i in range(0, 10):\n",
    "        print(\"added: \" + str(i))\n",
    "        list.append(i)\n",
    "    return list\n",
    "\n",
    "for element in get_list():\n",
    "    print(\"printed: \" + str(element))\n",
    "\n",
    "def gen_generator():\n",
    "    for i in range(0, 10):\n",
    "        print(\"added: \" + str(i))\n",
    "        yield i\n",
    "\n",
    "for element in gen_generator():\n",
    "    print(\"printed: \" + str(element))\n",
    "    if element == 4:\n",
    "        break"
   ]
  },
  {
   "cell_type": "code",
   "execution_count": null,
   "metadata": {},
   "outputs": [],
   "source": []
  }
 ],
 "metadata": {
  "kernelspec": {
   "display_name": "Python 3",
   "language": "python",
   "name": "python3"
  },
  "language_info": {
   "codemirror_mode": {
    "name": "ipython",
    "version": 3
   },
   "file_extension": ".py",
   "mimetype": "text/x-python",
   "name": "python",
   "nbconvert_exporter": "python",
   "pygments_lexer": "ipython3",
   "version": "3.7.4"
  }
 },
 "nbformat": 4,
 "nbformat_minor": 2
}
