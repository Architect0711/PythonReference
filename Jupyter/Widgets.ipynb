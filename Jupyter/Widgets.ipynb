{
 "cells": [
  {
   "cell_type": "markdown",
   "metadata": {},
   "source": [
    "# Python Reference - Widgets\n",
    "**Author:** Robert Bantele\n",
    "\n",
    "#### Definition\n",
    "create gui elements in Jupyter Notebooks\n",
    "\n",
    "##### Links\n",
    "https://ipywidgets.readthedocs.io/en/stable/examples/Widget%20List.html#Complete-list"
   ]
  },
  {
   "cell_type": "code",
   "execution_count": 1,
   "metadata": {},
   "outputs": [],
   "source": [
    "import ipywidgets as widgets\n",
    "from IPython.display import display"
   ]
  },
  {
   "cell_type": "markdown",
   "metadata": {},
   "source": [
    "### button"
   ]
  },
  {
   "cell_type": "code",
   "execution_count": 24,
   "metadata": {},
   "outputs": [
    {
     "name": "stdout",
     "output_type": "stream",
     "text": [
      "<class 'ipywidgets.widgets.widget_button.Button'>\n",
      "Button(description='Click Me', style=ButtonStyle())\n"
     ]
    },
    {
     "data": {
      "application/vnd.jupyter.widget-view+json": {
       "model_id": "6cfb6cba4b464ac9b6ec155181cdf4a4",
       "version_major": 2,
       "version_minor": 0
      },
      "text/plain": [
       "Button(description='Click Me', style=ButtonStyle())"
      ]
     },
     "metadata": {},
     "output_type": "display_data"
    },
    {
     "name": "stdout",
     "output_type": "stream",
     "text": [
      "my_button_on_click(Button(description='Click Me', style=ButtonStyle()))\n",
      "my_button_on_click(Button(description='Click Me', style=ButtonStyle()))\n",
      "my_button_on_click(Button(description='Click Me', style=ButtonStyle()))\n",
      "my_button_on_click(Button(description='Click Me', style=ButtonStyle()))\n",
      "my_button_on_click(Button(description='Click Me', style=ButtonStyle()))\n",
      "my_button_on_click(Button(description='Click Me', style=ButtonStyle()))\n"
     ]
    }
   ],
   "source": [
    "my_button = widgets.Button(description=\"Click Me\")\n",
    "print(type(my_button))\n",
    "print(my_button)\n",
    "\n",
    "display(my_button)\n",
    "\n",
    "def my_button_on_click(p):\n",
    "    print(f\"my_button_on_click({p})\")\n",
    "\n",
    "my_button.on_click(my_button_on_click)"
   ]
  },
  {
   "cell_type": "markdown",
   "metadata": {},
   "source": [
    "### textbox (text)"
   ]
  },
  {
   "cell_type": "code",
   "execution_count": 30,
   "metadata": {},
   "outputs": [
    {
     "name": "stdout",
     "output_type": "stream",
     "text": [
      "<class 'ipywidgets.widgets.widget_string.Text'>\n",
      "Text(value='some text', description='Text:')\n"
     ]
    },
    {
     "data": {
      "application/vnd.jupyter.widget-view+json": {
       "model_id": "dba483b5d5be45daa08dc9f5b0c4b419",
       "version_major": 2,
       "version_minor": 0
      },
      "text/plain": [
       "Text(value='some text', description='Text:')"
      ]
     },
     "metadata": {},
     "output_type": "display_data"
    },
    {
     "name": "stdout",
     "output_type": "stream",
     "text": [
      "<class 'str'>\n",
      "some text\n"
     ]
    }
   ],
   "source": [
    "my_textbox = widgets.Text(description=\"Text:\", value=\"some text\")\n",
    "print(type(my_textbox))\n",
    "print(my_textbox)\n",
    "\n",
    "display(my_textbox)\n",
    "\n",
    "print(type(my_textbox.value))\n",
    "print(my_textbox.value)"
   ]
  },
  {
   "cell_type": "markdown",
   "metadata": {},
   "source": [
    "### textbox (int)"
   ]
  },
  {
   "cell_type": "code",
   "execution_count": 31,
   "metadata": {},
   "outputs": [
    {
     "name": "stdout",
     "output_type": "stream",
     "text": [
      "<class 'ipywidgets.widgets.widget_int.IntText'>\n",
      "IntText(value=666, description='IntText:')\n"
     ]
    },
    {
     "data": {
      "application/vnd.jupyter.widget-view+json": {
       "model_id": "6928f3712d09459d9093981eb09a2848",
       "version_major": 2,
       "version_minor": 0
      },
      "text/plain": [
       "IntText(value=666, description='IntText:')"
      ]
     },
     "metadata": {},
     "output_type": "display_data"
    },
    {
     "name": "stdout",
     "output_type": "stream",
     "text": [
      "<class 'int'>\n",
      "666\n"
     ]
    }
   ],
   "source": [
    "my_textbox = widgets.IntText(description=\"IntText:\", value=666)\n",
    "print(type(my_textbox))\n",
    "print(my_textbox)\n",
    "\n",
    "display(my_textbox)\n",
    "\n",
    "print(type(my_textbox.value))\n",
    "print(my_textbox.value)"
   ]
  },
  {
   "cell_type": "markdown",
   "metadata": {},
   "source": [
    "### textbox (float)"
   ]
  },
  {
   "cell_type": "code",
   "execution_count": 29,
   "metadata": {},
   "outputs": [
    {
     "name": "stdout",
     "output_type": "stream",
     "text": [
      "<class 'ipywidgets.widgets.widget_float.FloatText'>\n",
      "FloatText(value=666.6, description='FloatText:')\n"
     ]
    },
    {
     "data": {
      "application/vnd.jupyter.widget-view+json": {
       "model_id": "5bfc0efa1fdf4dfaa42c3b25da1876a0",
       "version_major": 2,
       "version_minor": 0
      },
      "text/plain": [
       "FloatText(value=666.6, description='FloatText:')"
      ]
     },
     "metadata": {},
     "output_type": "display_data"
    },
    {
     "name": "stdout",
     "output_type": "stream",
     "text": [
      "<class 'float'>\n",
      "666.6\n"
     ]
    }
   ],
   "source": [
    "my_textbox = widgets.FloatText(description=\"FloatText:\", value=666.6)\n",
    "print(type(my_textbox))\n",
    "print(my_textbox)\n",
    "\n",
    "display(my_textbox)\n",
    "\n",
    "print(type(my_textbox.value))\n",
    "print(my_textbox.value)"
   ]
  },
  {
   "cell_type": "markdown",
   "metadata": {},
   "source": [
    "### checkbox"
   ]
  },
  {
   "cell_type": "code",
   "execution_count": 32,
   "metadata": {},
   "outputs": [
    {
     "name": "stdout",
     "output_type": "stream",
     "text": [
      "<class 'ipywidgets.widgets.widget_bool.Checkbox'>\n",
      "Checkbox(value=False, description='Check Me')\n"
     ]
    },
    {
     "data": {
      "application/vnd.jupyter.widget-view+json": {
       "model_id": "fabe162bf04944fc9e8bdfe8428936ca",
       "version_major": 2,
       "version_minor": 0
      },
      "text/plain": [
       "Checkbox(value=False, description='Check Me')"
      ]
     },
     "metadata": {},
     "output_type": "display_data"
    },
    {
     "name": "stdout",
     "output_type": "stream",
     "text": [
      "<class 'bool'>\n",
      "False\n"
     ]
    }
   ],
   "source": [
    "my_checkbox = widgets.Checkbox(description=\"Check Me\", value=False)\n",
    "print(type(my_checkbox))\n",
    "print(my_checkbox)\n",
    "\n",
    "display(my_checkbox)\n",
    "\n",
    "print(type(my_checkbox.value))\n",
    "print(my_checkbox.value)"
   ]
  },
  {
   "cell_type": "markdown",
   "metadata": {},
   "source": [
    "### radio buttons"
   ]
  },
  {
   "cell_type": "code",
   "execution_count": 33,
   "metadata": {},
   "outputs": [
    {
     "name": "stdout",
     "output_type": "stream",
     "text": [
      "<class 'ipywidgets.widgets.widget_selection.RadioButtons'>\n",
      "RadioButtons(description='Choose:', options=('Option 1', 'Option 2', 'Option 3'), value='Option 1')\n"
     ]
    },
    {
     "data": {
      "application/vnd.jupyter.widget-view+json": {
       "model_id": "54fe4b709d264918a81bf22235b8208e",
       "version_major": 2,
       "version_minor": 0
      },
      "text/plain": [
       "RadioButtons(description='Choose:', options=('Option 1', 'Option 2', 'Option 3'), value='Option 1')"
      ]
     },
     "metadata": {},
     "output_type": "display_data"
    },
    {
     "name": "stdout",
     "output_type": "stream",
     "text": [
      "<class 'str'>\n",
      "Option 1\n"
     ]
    }
   ],
   "source": [
    "my_radio_buttons = widgets.RadioButtons(\n",
    "    options=['Option 1', 'Option 2', 'Option 3'],\n",
    "    description='Choose:',\n",
    "    disabled=False\n",
    ")\n",
    "\n",
    "print(type(my_radio_buttons))\n",
    "print(my_radio_buttons)\n",
    "\n",
    "display(my_radio_buttons)\n",
    "\n",
    "print(type(my_radio_buttons.value))\n",
    "print(my_radio_buttons.value)"
   ]
  },
  {
   "cell_type": "markdown",
   "metadata": {},
   "source": [
    "### dropdown"
   ]
  },
  {
   "cell_type": "code",
   "execution_count": 34,
   "metadata": {},
   "outputs": [
    {
     "name": "stdout",
     "output_type": "stream",
     "text": [
      "<class 'ipywidgets.widgets.widget_selection.Dropdown'>\n",
      "Dropdown(description='Choose:', options=('Option 1', 'Option 2', 'Option 3'), value='Option 1')\n"
     ]
    },
    {
     "data": {
      "application/vnd.jupyter.widget-view+json": {
       "model_id": "7b1d26cc47d34661840fb3bc8e099624",
       "version_major": 2,
       "version_minor": 0
      },
      "text/plain": [
       "Dropdown(description='Choose:', options=('Option 1', 'Option 2', 'Option 3'), value='Option 1')"
      ]
     },
     "metadata": {},
     "output_type": "display_data"
    },
    {
     "name": "stdout",
     "output_type": "stream",
     "text": [
      "<class 'str'>\n",
      "Option 1\n"
     ]
    }
   ],
   "source": [
    "my_dropdown = widgets.Dropdown(\n",
    "    options=['Option 1', 'Option 2', 'Option 3'],\n",
    "    description='Choose:',\n",
    "    disabled=False\n",
    ")\n",
    "\n",
    "print(type(my_dropdown))\n",
    "print(my_dropdown)\n",
    "\n",
    "display(my_dropdown)\n",
    "\n",
    "print(type(my_dropdown.value))\n",
    "print(my_dropdown.value)"
   ]
  },
  {
   "cell_type": "code",
   "execution_count": null,
   "metadata": {},
   "outputs": [],
   "source": []
  }
 ],
 "metadata": {
  "kernelspec": {
   "display_name": "Python 3",
   "language": "python",
   "name": "python3"
  },
  "language_info": {
   "codemirror_mode": {
    "name": "ipython",
    "version": 3
   },
   "file_extension": ".py",
   "mimetype": "text/x-python",
   "name": "python",
   "nbconvert_exporter": "python",
   "pygments_lexer": "ipython3",
   "version": "3.7.4"
  }
 },
 "nbformat": 4,
 "nbformat_minor": 2
}
