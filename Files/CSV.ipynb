{
 "cells": [
  {
   "cell_type": "markdown",
   "metadata": {},
   "source": [
    "# Python Reference - CSV\n",
    "**Author:** Robert Bantele\n",
    "\n",
    "#### Definition\n",
    "comma separated values\n",
    "\n",
    "##### Links\n",
    "https://docs.python.org/3/library/csv.html\n",
    "https://www.freecodecamp.org/news/how-to-combine-multiple-csv-files-with-8-lines-of-code-265183e0854/"
   ]
  },
  {
   "cell_type": "markdown",
   "metadata": {},
   "source": [
    "### read csv into a list\n",
    "to get every line of a file into a list, use the **str.split()** method"
   ]
  },
  {
   "cell_type": "code",
   "execution_count": 9,
   "metadata": {},
   "outputs": [
    {
     "name": "stdout",
     "output_type": "stream",
     "text": [
      "['Date', 'Transaction', 'Amount', 'Balance']\n",
      "['2020-03-20', 'Supermarket', '-500.00', '2312.30']\n",
      "['2020-03-22', 'Cigarettes', '-8.00', '2304.30']\n",
      "['2020-04-01', 'Salary', '+4000.00', '6304.30']\n",
      "<class '_io.TextIOWrapper'>\n"
     ]
    }
   ],
   "source": [
    "with open (\"CSV.csv\") as csv_file:\n",
    "    for line in csv_file:\n",
    "        print(line.strip().split(\";\"))\n",
    "\n",
    "print(type(csv_file))"
   ]
  },
  {
   "cell_type": "markdown",
   "metadata": {},
   "source": [
    "### csv.reader"
   ]
  },
  {
   "cell_type": "code",
   "execution_count": 12,
   "metadata": {},
   "outputs": [
    {
     "name": "stdout",
     "output_type": "stream",
     "text": [
      "['Date', 'Transaction', 'Amount', 'Balance']\n",
      "['2020-03-20', 'Supermarket', '-500.00', '2312.30']\n",
      "['2020-03-22', 'Cigarettes', '-8.00', '2304.30']\n",
      "['2020-04-01', 'Salary', '+4000.00', '6304.30']\n",
      "<class '_csv.reader'>\n"
     ]
    }
   ],
   "source": [
    "import csv\n",
    "with open(\"CSV.csv\", newline='') as file:\n",
    "    csv_file = csv.reader(file, delimiter=\";\")\n",
    "    for line in csv_file:\n",
    "        print(line)\n",
    "\n",
    "print(type(csv_file))"
   ]
  },
  {
   "cell_type": "markdown",
   "metadata": {},
   "source": [
    "### csv.writer\n",
    "use the **csv.writer** objects **writerow** method to write lists of values into lines in the csv file"
   ]
  },
  {
   "cell_type": "code",
   "execution_count": 1,
   "metadata": {},
   "outputs": [],
   "source": [
    "import csv\n",
    "with open(file=\"CSV2.csv\", mode=\"wt\", newline=\"\", encoding=\"utf-8\") as file:\n",
    "    csv_file = csv.writer(file, delimiter=\",\")\n",
    "    csv_file.writerow([\"1\", \"one\", \"first\"])\n",
    "    csv_file.writerow([\"2\", \"two\", \"second\"])\n",
    "    csv_file.writerow([\"3\", \"three\", \"third\"])"
   ]
  },
  {
   "cell_type": "markdown",
   "metadata": {},
   "source": [
    "### csv.reader + csv.writer\n",
    "quick data processing snippet with **csv.reader** and **csv.writer** "
   ]
  },
  {
   "cell_type": "code",
   "execution_count": 7,
   "metadata": {},
   "outputs": [
    {
     "name": "stdout",
     "output_type": "stream",
     "text": [
      "======================================================================\n",
      "reading: E:\\Develop\\Python\\40_CodeSnippets\\PythonReference\\Files\\CSV.csv\n",
      "read headers: ['Date', 'Transaction', 'Amount', 'Balance']\n",
      "read: ['Date', 'Transaction', 'Amount', 'Balance']\n",
      "read: ['Date', 'Transaction', 'Amount', 'Balance']\n",
      "read: ['Date', 'Transaction', 'Amount', 'Balance']\n",
      "processed 3 items\n",
      "======================================================================\n",
      "deleted: E:\\Develop\\Python\\40_CodeSnippets\\PythonReference\\Files\\output.csv\n",
      "writing: E:\\Develop\\Python\\40_CodeSnippets\\PythonReference\\Files\\output.csv\n",
      "write headers: ['Date', 'Transaction', 'Amount', 'Balance']\n",
      "write: ['2020-03-20', 'Supermarket', '-500.00']\n",
      "write: ['2020-03-22', 'Cigarettes', '-8.00']\n",
      "write: ['2020-04-01', 'Salary', '+4000.00']\n"
     ]
    }
   ],
   "source": [
    "import csv\n",
    "import os\n",
    "\n",
    "base_path = os.path.join('C:\\\\', 'My', 'Path')\n",
    "base_path = os.getcwd()\n",
    "\n",
    "input_file_name = 'CSV.csv'\n",
    "output_file_name = 'output.csv'\n",
    "\n",
    "input_path = os.path.join(base_path, input_file_name)\n",
    "output_path = os.path.join(base_path, output_file_name)\n",
    "\n",
    "processed_data = list()\n",
    "input_line_count = 0\n",
    "\n",
    "input_has_headers = True\n",
    "transfer_headers_to_output = True\n",
    "\n",
    "print(f'======================================================================')\n",
    "print(f'reading: {input_path}')\n",
    "\n",
    "with open(input_path, newline='', encoding='utf8') as input_file:\n",
    "    input_csv = csv.reader(input_file, delimiter=\";\")\n",
    "    for line in input_csv:\n",
    "        input_line_count = input_line_count + 1 \n",
    "        if input_has_headers and input_line_count == 1:\n",
    "            print(f'read headers: {line}')\n",
    "            headers = line;\n",
    "            continue\n",
    "        # add processing logic here\n",
    "        print(f'read: {headers}')\n",
    "        one = line[0]\n",
    "        two = line[1]\n",
    "        three = line[2]\n",
    "        processed_data.append([one, two, three])\n",
    "\n",
    "print(f'processed {len(processed_data)} items')\n",
    "print(f'======================================================================')\n",
    "\n",
    "if(os.path.exists(output_path)):\n",
    "    os.remove(output_path)\n",
    "    print(f'deleted: {output_path}')\n",
    "\n",
    "print(f'writing: {output_path}')\n",
    "\n",
    "with open(file=output_path, mode=\"w+\", newline=\"\", encoding=\"utf-8\") as output_file:\n",
    "    output_csv = csv.writer(output_file, delimiter=\",\")\n",
    "    if transfer_headers_to_output and headers:\n",
    "        print(f'write headers: {headers}')\n",
    "        output_csv.writerow(headers)\n",
    "    for line in processed_data:\n",
    "        print(f'write: {line}')\n",
    "        output_csv.writerow(line)"
   ]
  },
  {
   "cell_type": "code",
   "execution_count": null,
   "metadata": {},
   "outputs": [],
   "source": []
  }
 ],
 "metadata": {
  "kernelspec": {
   "display_name": "Python 3",
   "language": "python",
   "name": "python3"
  },
  "language_info": {
   "codemirror_mode": {
    "name": "ipython",
    "version": 3
   },
   "file_extension": ".py",
   "mimetype": "text/x-python",
   "name": "python",
   "nbconvert_exporter": "python",
   "pygments_lexer": "ipython3",
   "version": "3.7.6"
  }
 },
 "nbformat": 4,
 "nbformat_minor": 2
}
