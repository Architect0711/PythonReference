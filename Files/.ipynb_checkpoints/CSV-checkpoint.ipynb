{
 "cells": [
  {
   "cell_type": "markdown",
   "metadata": {},
   "source": [
    "# Python Reference - CSV\n",
    "**Author:** Robert Bantele\n",
    "\n",
    "#### Definition\n",
    "comma separated values\n",
    "\n",
    "##### Links\n",
    "https://docs.python.org/3/library/csv.html"
   ]
  },
  {
   "cell_type": "markdown",
   "metadata": {},
   "source": [
    "### read csv into a list\n",
    "to get every line of a file into a list, use the **str.split()** method"
   ]
  },
  {
   "cell_type": "code",
   "execution_count": 9,
   "metadata": {},
   "outputs": [
    {
     "name": "stdout",
     "output_type": "stream",
     "text": [
      "['Date', 'Transaction', 'Amount', 'Balance']\n",
      "['2020-03-20', 'Supermarket', '-500.00', '2312.30']\n",
      "['2020-03-22', 'Cigarettes', '-8.00', '2304.30']\n",
      "['2020-04-01', 'Salary', '+4000.00', '6304.30']\n",
      "<class '_io.TextIOWrapper'>\n"
     ]
    }
   ],
   "source": [
    "with open (\"CSV.csv\") as csv_file:\n",
    "    for line in csv_file:\n",
    "        print(line.strip().split(\";\"))\n",
    "\n",
    "print(type(csv_file))"
   ]
  },
  {
   "cell_type": "markdown",
   "metadata": {},
   "source": [
    "### csv.reader"
   ]
  },
  {
   "cell_type": "code",
   "execution_count": 12,
   "metadata": {},
   "outputs": [
    {
     "name": "stdout",
     "output_type": "stream",
     "text": [
      "['Date', 'Transaction', 'Amount', 'Balance']\n",
      "['2020-03-20', 'Supermarket', '-500.00', '2312.30']\n",
      "['2020-03-22', 'Cigarettes', '-8.00', '2304.30']\n",
      "['2020-04-01', 'Salary', '+4000.00', '6304.30']\n",
      "<class '_csv.reader'>\n"
     ]
    }
   ],
   "source": [
    "import csv\n",
    "with open(\"CSV.csv\", newline='') as file:\n",
    "    csv_file = csv.reader(file, delimiter=\";\")\n",
    "    for line in csv_file:\n",
    "        print(line)\n",
    "\n",
    "print(type(csv_file))"
   ]
  },
  {
   "cell_type": "markdown",
   "metadata": {},
   "source": [
    "### csv.writer\n",
    "use the **csv.writer** objects **writerow** method to write lists of values into lines in the csv file"
   ]
  },
  {
   "cell_type": "code",
   "execution_count": 5,
   "metadata": {},
   "outputs": [],
   "source": [
    "import csv\n",
    "with open(file=\"CSV2.csv\", mode=\"wt\", newline=\"\", encoding=\"utf-8\") as file:\n",
    "    csv_file = csv.writer(file, delimiter=\",\")\n",
    "    csv_file.writerow([\"1\", \"one\", \"first\"])\n",
    "    csv_file.writerow([\"2\", \"two\", \"second\"])\n",
    "    csv_file.writerow([\"3\", \"three\", \"third\"])"
   ]
  },
  {
   "cell_type": "code",
   "execution_count": null,
   "metadata": {},
   "outputs": [],
   "source": []
  }
 ],
 "metadata": {
  "kernelspec": {
   "display_name": "Python 3",
   "language": "python",
   "name": "python3"
  },
  "language_info": {
   "codemirror_mode": {
    "name": "ipython",
    "version": 3
   },
   "file_extension": ".py",
   "mimetype": "text/x-python",
   "name": "python",
   "nbconvert_exporter": "python",
   "pygments_lexer": "ipython3",
   "version": "3.7.4"
  }
 },
 "nbformat": 4,
 "nbformat_minor": 2
}
