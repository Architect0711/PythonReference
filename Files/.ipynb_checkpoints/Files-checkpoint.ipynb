{
 "cells": [
  {
   "cell_type": "markdown",
   "metadata": {},
   "source": [
    "# Python Reference - Files\n",
    "**Author:** Robert Bantele\n",
    "\n",
    "#### Definition\n",
    "some basic snippets for working with files\n",
    "\n",
    "##### Links\n",
    "https://docs.python.org/3/library/functions.html#open"
   ]
  },
  {
   "cell_type": "markdown",
   "metadata": {},
   "source": [
    "### operating system\n",
    "file systems are a bit different depending on the os. use the **platform.system** method to find out which os you are on"
   ]
  },
  {
   "cell_type": "code",
   "execution_count": 1,
   "metadata": {},
   "outputs": [
    {
     "name": "stdout",
     "output_type": "stream",
     "text": [
      "Windows\n"
     ]
    }
   ],
   "source": [
    "import platform\n",
    "\n",
    "cur_plat = platform.system()\n",
    "print(cur_plat)"
   ]
  },
  {
   "cell_type": "markdown",
   "metadata": {},
   "source": [
    "### file paths\n",
    "use **os.path.join** to join correct file paths for your os. putting a dot as first argument will build the path from the script directory"
   ]
  },
  {
   "cell_type": "code",
   "execution_count": 2,
   "metadata": {},
   "outputs": [
    {
     "name": "stdout",
     "output_type": "stream",
     "text": [
      ".\\File.txt\n"
     ]
    }
   ],
   "source": [
    "import os\n",
    "\n",
    "file_name: str = \"File.txt\"\n",
    "file_path = os.path.join(\".\", file_name)\n",
    "print(file_path)"
   ]
  },
  {
   "cell_type": "markdown",
   "metadata": {},
   "source": [
    "### directory contents\n",
    "use **os.listdir** to get all files in a directory into a list"
   ]
  },
  {
   "cell_type": "code",
   "execution_count": 3,
   "metadata": {},
   "outputs": [
    {
     "name": "stdout",
     "output_type": "stream",
     "text": [
      "['.ipynb_checkpoints', 'CSV.csv', 'CSV.ipynb', 'Files.ipynb']\n"
     ]
    }
   ],
   "source": [
    "import os\n",
    "\n",
    "contents = os.listdir(\".\")\n",
    "print(contents)"
   ]
  },
  {
   "cell_type": "markdown",
   "metadata": {},
   "source": [
    "### create file\n",
    "use **open** in mode **wt** to open a file for writing"
   ]
  },
  {
   "cell_type": "code",
   "execution_count": 4,
   "metadata": {},
   "outputs": [
    {
     "name": "stdout",
     "output_type": "stream",
     "text": [
      "<_io.TextIOWrapper name='.\\\\File.txt' mode='wt' encoding='utf8'>\n"
     ]
    }
   ],
   "source": [
    "file = open(file=file_path, mode=\"wt\", encoding=\"utf8\")\n",
    "print(file)"
   ]
  },
  {
   "cell_type": "markdown",
   "metadata": {},
   "source": [
    "### write to file\n",
    "use **file.write** to write to a file. append \\n for a line break"
   ]
  },
  {
   "cell_type": "code",
   "execution_count": 6,
   "metadata": {},
   "outputs": [],
   "source": [
    "for r in range(1,10):\n",
    "    file.write(f\"this is line {r}\\n\")"
   ]
  },
  {
   "cell_type": "markdown",
   "metadata": {},
   "source": [
    "### close file\n",
    "use **file.close** to close a file - although the right way to work with files is using **with open** and there is no need to use **file.close**"
   ]
  },
  {
   "cell_type": "code",
   "execution_count": 7,
   "metadata": {},
   "outputs": [],
   "source": [
    "file.close()"
   ]
  },
  {
   "cell_type": "markdown",
   "metadata": {},
   "source": [
    "### copy file\n",
    "use **copyfile** from the **shutil** library to copy files "
   ]
  },
  {
   "cell_type": "code",
   "execution_count": 8,
   "metadata": {},
   "outputs": [
    {
     "data": {
      "text/plain": [
       "'CopiedFile.txt'"
      ]
     },
     "execution_count": 8,
     "metadata": {},
     "output_type": "execute_result"
    }
   ],
   "source": [
    "from shutil import copyfile\n",
    "\n",
    "dst: str = \"CopiedFile.txt\"\n",
    "copyfile(file_name, dst)"
   ]
  },
  {
   "cell_type": "markdown",
   "metadata": {},
   "source": [
    "### read file\n",
    "use **with open** to open a file and automatically close it when finished working with it"
   ]
  },
  {
   "cell_type": "code",
   "execution_count": 9,
   "metadata": {},
   "outputs": [
    {
     "name": "stdout",
     "output_type": "stream",
     "text": [
      "this is line 1\n",
      "\n",
      "this is line 2\n",
      "\n",
      "this is line 3\n",
      "\n",
      "this is line 4\n",
      "\n",
      "this is line 5\n",
      "\n",
      "this is line 6\n",
      "\n",
      "this is line 7\n",
      "\n",
      "this is line 8\n",
      "\n",
      "this is line 9\n",
      "\n",
      "this is line 1\n",
      "\n",
      "this is line 2\n",
      "\n",
      "this is line 3\n",
      "\n",
      "this is line 4\n",
      "\n",
      "this is line 5\n",
      "\n",
      "this is line 6\n",
      "\n",
      "this is line 7\n",
      "\n",
      "this is line 8\n",
      "\n",
      "this is line 9\n",
      "\n"
     ]
    }
   ],
   "source": [
    "with open(file=dst, mode=\"rt\", encoding=\"utf8\") as copied_file:\n",
    "    for line in copied_file:\n",
    "        print(line)"
   ]
  },
  {
   "cell_type": "markdown",
   "metadata": {},
   "source": [
    "### delete file\n",
    "use **os.remove** to delete a file"
   ]
  },
  {
   "cell_type": "code",
   "execution_count": 10,
   "metadata": {},
   "outputs": [],
   "source": [
    "import os\n",
    "dst_path = os.path.join(\".\", dst)\n",
    "os.remove(dst_path)\n",
    "os.remove(file_path)"
   ]
  },
  {
   "cell_type": "code",
   "execution_count": 53,
   "metadata": {},
   "outputs": [],
   "source": []
  },
  {
   "cell_type": "code",
   "execution_count": null,
   "metadata": {},
   "outputs": [],
   "source": []
  }
 ],
 "metadata": {
  "kernelspec": {
   "display_name": "Python 3",
   "language": "python",
   "name": "python3"
  },
  "language_info": {
   "codemirror_mode": {
    "name": "ipython",
    "version": 3
   },
   "file_extension": ".py",
   "mimetype": "text/x-python",
   "name": "python",
   "nbconvert_exporter": "python",
   "pygments_lexer": "ipython3",
   "version": "3.7.4"
  }
 },
 "nbformat": 4,
 "nbformat_minor": 2
}
